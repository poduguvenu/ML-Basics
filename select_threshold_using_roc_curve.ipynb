{
  "nbformat": 4,
  "nbformat_minor": 0,
  "metadata": {
    "kernelspec": {
      "display_name": "Python 3",
      "language": "python",
      "name": "python3"
    },
    "language_info": {
      "codemirror_mode": {
        "name": "ipython",
        "version": 3
      },
      "file_extension": ".py",
      "mimetype": "text/x-python",
      "name": "python",
      "nbconvert_exporter": "python",
      "pygments_lexer": "ipython3",
      "version": "3.7.6"
    },
    "colab": {
      "name": "select-threshold-using-roc-curve.ipynb",
      "provenance": []
    }
  },
  "cells": [
    {
      "cell_type": "markdown",
      "metadata": {
        "id": "xfypeLXpsRi9"
      },
      "source": [
        "# Select the Right Threshold Values using ROC Curve\n",
        "---\n"
      ]
    },
    {
      "cell_type": "markdown",
      "metadata": {
        "id": "ZdcPVlJKsaGm"
      },
      "source": [
        "## Importing Required Libraries\n"
      ]
    },
    {
      "cell_type": "code",
      "metadata": {
        "id": "o8fTraoMovf5"
      },
      "source": [
        "import numpy as np\n",
        "import pandas as pd\n",
        "import matplotlib.pyplot as plt\n",
        "%matplotlib inline\n",
        "import seaborn as sns\n",
        "sns.set_style('darkgrid')\n",
        "\n",
        "from sklearn.datasets import make_classification\n",
        "from sklearn.model_selection import train_test_split\n",
        "\n",
        "# ROC curve and AUC score\n",
        "from sklearn.metrics import roc_curve\n",
        "from sklearn.metrics import roc_auc_score\n",
        "from sklearn.metrics import accuracy_score\n",
        "\n",
        "from sklearn.ensemble import RandomForestClassifier\n",
        "from sklearn.linear_model import LogisticRegression\n",
        "from sklearn.ensemble import AdaBoostClassifier\n",
        "from sklearn.neighbors import KNeighborsClassifier"
      ],
      "execution_count": 86,
      "outputs": []
    },
    {
      "cell_type": "markdown",
      "metadata": {
        "id": "aMTG7ilGtQJe"
      },
      "source": [
        "> The dataset has been generated from `make_classification` class of `sklearn.datasets`\n",
        "> <br>\n",
        "> It generates a random n-class classification problem."
      ]
    },
    {
      "cell_type": "code",
      "metadata": {
        "id": "3ZYl_ARYtIBJ"
      },
      "source": [
        "X, y = make_classification(n_samples=2000, n_classes=2, weights=[1, 1], random_state=1)"
      ],
      "execution_count": 87,
      "outputs": []
    },
    {
      "cell_type": "code",
      "metadata": {
        "colab": {
          "base_uri": "https://localhost:8080/"
        },
        "id": "Cgl02Cnlt5kw",
        "outputId": "36c09925-ec4d-4cd2-9add-7a550da1c120"
      },
      "source": [
        "X.shape"
      ],
      "execution_count": 88,
      "outputs": [
        {
          "output_type": "execute_result",
          "data": {
            "text/plain": [
              "(2000, 20)"
            ]
          },
          "metadata": {
            "tags": []
          },
          "execution_count": 88
        }
      ]
    },
    {
      "cell_type": "code",
      "metadata": {
        "colab": {
          "base_uri": "https://localhost:8080/"
        },
        "id": "xB-HpRtwuANO",
        "outputId": "476b6a9a-b041-42cb-9e42-bbdac687db62"
      },
      "source": [
        "y"
      ],
      "execution_count": 89,
      "outputs": [
        {
          "output_type": "execute_result",
          "data": {
            "text/plain": [
              "array([0, 0, 0, ..., 1, 1, 0])"
            ]
          },
          "metadata": {
            "tags": []
          },
          "execution_count": 89
        }
      ]
    },
    {
      "cell_type": "code",
      "metadata": {
        "id": "NcfsrXb9uCNV"
      },
      "source": [
        "X_train, X_test, y_train, y_test = train_test_split(X, y, test_size=0.3, random_state=1)"
      ],
      "execution_count": 90,
      "outputs": []
    },
    {
      "cell_type": "markdown",
      "metadata": {
        "id": "ZGvde4f8wCZL"
      },
      "source": [
        "> ## Random Forest \n",
        "Applying Random Forest Classifier"
      ]
    },
    {
      "cell_type": "code",
      "metadata": {
        "colab": {
          "base_uri": "https://localhost:8080/"
        },
        "id": "jrR8ebtwvoj3",
        "outputId": "e984cd37-c2d3-428b-a0d9-266482633986"
      },
      "source": [
        "rf_model = RandomForestClassifier()\n",
        "rf_model.fit(X_train, y_train)\n",
        "ytrain_pred = rf_model.predict_proba(X_train)\n",
        "print(f\"RF train roc-auc: {roc_auc_score(y_train, ytrain_pred[:, 1])}\")\n",
        "ytest_pred = rf_model.predict_proba(X_test)\n",
        "print(f\"RF test roc-auc: {roc_auc_score(y_test, ytest_pred[:, 1])}\")"
      ],
      "execution_count": 91,
      "outputs": [
        {
          "output_type": "stream",
          "text": [
            "RF train roc-auc: 1.0\n",
            "RF test roc-auc: 0.9824222222222222\n"
          ],
          "name": "stdout"
        }
      ]
    },
    {
      "cell_type": "code",
      "metadata": {
        "colab": {
          "base_uri": "https://localhost:8080/"
        },
        "id": "rrQriypkyCGD",
        "outputId": "276e2226-a20e-488b-8d92-f8489283cee3"
      },
      "source": [
        "ytrain_pred, ytest_pred"
      ],
      "execution_count": 92,
      "outputs": [
        {
          "output_type": "execute_result",
          "data": {
            "text/plain": [
              "(array([[1.  , 0.  ],\n",
              "        [0.97, 0.03],\n",
              "        [0.01, 0.99],\n",
              "        ...,\n",
              "        [0.99, 0.01],\n",
              "        [0.99, 0.01],\n",
              "        [0.21, 0.79]]), array([[0.03, 0.97],\n",
              "        [1.  , 0.  ],\n",
              "        [0.02, 0.98],\n",
              "        ...,\n",
              "        [0.  , 1.  ],\n",
              "        [0.99, 0.01],\n",
              "        [0.  , 1.  ]]))"
            ]
          },
          "metadata": {
            "tags": []
          },
          "execution_count": 92
        }
      ]
    },
    {
      "cell_type": "markdown",
      "metadata": {
        "id": "YATIMb-uymFz"
      },
      "source": [
        "> ## Logistic Regression\n",
        "Applying Logistic Regression Classifier"
      ]
    },
    {
      "cell_type": "code",
      "metadata": {
        "colab": {
          "base_uri": "https://localhost:8080/"
        },
        "id": "-3meSNePvxa3",
        "outputId": "a526d7c0-31dd-433d-d235-01820239bed0"
      },
      "source": [
        "log_clf = LogisticRegression()\n",
        "log_clf.fit(X_train, y_train)\n",
        "ytrain_pred = log_clf.predict_proba(X_train)\n",
        "print(f\"Logistic train roc-auc: {roc_auc_score(y_train, ytrain_pred[:, 1])}\")\n",
        "ytest_pred = log_clf.predict_proba(X_test)\n",
        "print(f\"Logistic test roc-auc: {roc_auc_score(y_test, ytest_pred[:, 1])}\")"
      ],
      "execution_count": 93,
      "outputs": [
        {
          "output_type": "stream",
          "text": [
            "Logistic train roc-auc: 0.9863568922694498\n",
            "Logistic test roc-auc: 0.9885777777777777\n"
          ],
          "name": "stdout"
        }
      ]
    },
    {
      "cell_type": "markdown",
      "metadata": {
        "id": "Jb8dGVVY04aq"
      },
      "source": [
        "> ## Adaboost Classifier\n"
      ]
    },
    {
      "cell_type": "code",
      "metadata": {
        "colab": {
          "base_uri": "https://localhost:8080/"
        },
        "id": "J8IK9Gxi0zZu",
        "outputId": "24f7bc05-5981-4f30-9be9-604b3b50fdcb"
      },
      "source": [
        "ada_clf = AdaBoostClassifier()\n",
        "ada_clf.fit(X_train, y_train)\n",
        "ytrain_pred = ada_clf.predict_proba(X_train)\n",
        "print(f\"AdaBoost train roc-auc: {roc_auc_score(y_train, ytrain_pred[:, 1])}\")\n",
        "ytest_pred = ada_clf.predict_proba(X_test)\n",
        "print(f\"AdaBoost test roc-auc: {roc_auc_score(y_test, ytest_pred[:, 1])}\")"
      ],
      "execution_count": 94,
      "outputs": [
        {
          "output_type": "stream",
          "text": [
            "AdaBoost train roc-auc: 0.9975081174960356\n",
            "AdaBoost test roc-auc: 0.9826111111111111\n"
          ],
          "name": "stdout"
        }
      ]
    },
    {
      "cell_type": "markdown",
      "metadata": {
        "id": "bE_IHd1P2X5n"
      },
      "source": [
        "> ## KNN Classifier"
      ]
    },
    {
      "cell_type": "code",
      "metadata": {
        "colab": {
          "base_uri": "https://localhost:8080/"
        },
        "id": "4uTcyjTS2VFJ",
        "outputId": "11411038-2272-428b-b84d-49ede6cb986b"
      },
      "source": [
        "knn_clf = KNeighborsClassifier()\n",
        "knn_clf.fit(X_train, y_train)\n",
        "ytrain_pred = knn_clf.predict_proba(X_train)\n",
        "print(f\"KNN train roc-auc: {roc_auc_score(y_train, ytrain_pred[:, 1])}\")\n",
        "ytest_pred = knn_clf.predict_proba(X_test)\n",
        "print(f\"KNN test roc-auc: {roc_auc_score(y_test, ytest_pred[:, 1])}\")"
      ],
      "execution_count": 95,
      "outputs": [
        {
          "output_type": "stream",
          "text": [
            "KNN train roc-auc: 0.981670071491109\n",
            "KNN test roc-auc: 0.9426111111111111\n"
          ],
          "name": "stdout"
        }
      ]
    },
    {
      "cell_type": "markdown",
      "metadata": {
        "id": "v2JqFOFo3mZf"
      },
      "source": [
        " > Now we will focus on selecting the best threshold for maximum accuracy"
      ]
    },
    {
      "cell_type": "code",
      "metadata": {
        "colab": {
          "base_uri": "https://localhost:8080/"
        },
        "id": "UV7M_vuw3hyr",
        "outputId": "203312ac-ff46-4f26-a604-db1e951828b6"
      },
      "source": [
        "pred = []\n",
        "for model in [rf_model, log_clf, ada_clf, knn_clf]:\n",
        "    pred.append(pd.Series(model.predict_proba(X_test)[:, 1]))\n",
        "final_prediction = pd.concat(pred, axis=1).mean(axis=1)\n",
        "print(f\"Ensemble test roc-auc: {roc_auc_score(y_test, final_prediction)}\")"
      ],
      "execution_count": 96,
      "outputs": [
        {
          "output_type": "stream",
          "text": [
            "Ensemble test roc-auc: 0.9849333333333333\n"
          ],
          "name": "stdout"
        }
      ]
    },
    {
      "cell_type": "code",
      "metadata": {
        "colab": {
          "base_uri": "https://localhost:8080/"
        },
        "id": "cZ77dyqW5rIg",
        "outputId": "314320aa-07ac-4962-d28a-49511b41869c"
      },
      "source": [
        "pred"
      ],
      "execution_count": 97,
      "outputs": [
        {
          "output_type": "execute_result",
          "data": {
            "text/plain": [
              "[0      0.97\n",
              " 1      0.00\n",
              " 2      0.98\n",
              " 3      0.92\n",
              " 4      0.61\n",
              "        ... \n",
              " 595    0.00\n",
              " 596    0.03\n",
              " 597    1.00\n",
              " 598    0.01\n",
              " 599    1.00\n",
              " Length: 600, dtype: float64, 0      0.991861\n",
              " 1      0.000008\n",
              " 2      0.966929\n",
              " 3      0.761539\n",
              " 4      0.779443\n",
              "          ...   \n",
              " 595    0.024239\n",
              " 596    0.000003\n",
              " 597    0.984385\n",
              " 598    0.001147\n",
              " 599    0.989540\n",
              " Length: 600, dtype: float64, 0      0.559186\n",
              " 1      0.463282\n",
              " 2      0.538202\n",
              " 3      0.509875\n",
              " 4      0.490344\n",
              "          ...   \n",
              " 595    0.461121\n",
              " 596    0.441377\n",
              " 597    0.532403\n",
              " 598    0.441720\n",
              " 599    0.559890\n",
              " Length: 600, dtype: float64, 0      1.0\n",
              " 1      0.0\n",
              " 2      0.8\n",
              " 3      0.8\n",
              " 4      0.4\n",
              "       ... \n",
              " 595    0.0\n",
              " 596    0.0\n",
              " 597    1.0\n",
              " 598    0.2\n",
              " 599    0.8\n",
              " Length: 600, dtype: float64]"
            ]
          },
          "metadata": {
            "tags": []
          },
          "execution_count": 97
        }
      ]
    },
    {
      "cell_type": "code",
      "metadata": {
        "colab": {
          "base_uri": "https://localhost:8080/",
          "height": 391
        },
        "id": "tYXkW_qg4s5-",
        "outputId": "f44db860-7761-40f7-c94c-8c0c73775821"
      },
      "source": [
        "pd.concat(pred, axis=1)"
      ],
      "execution_count": 98,
      "outputs": [
        {
          "output_type": "execute_result",
          "data": {
            "text/html": [
              "<div>\n",
              "<style scoped>\n",
              "    .dataframe tbody tr th:only-of-type {\n",
              "        vertical-align: middle;\n",
              "    }\n",
              "\n",
              "    .dataframe tbody tr th {\n",
              "        vertical-align: top;\n",
              "    }\n",
              "\n",
              "    .dataframe thead th {\n",
              "        text-align: right;\n",
              "    }\n",
              "</style>\n",
              "<table border=\"1\" class=\"dataframe\">\n",
              "  <thead>\n",
              "    <tr style=\"text-align: right;\">\n",
              "      <th></th>\n",
              "      <th>0</th>\n",
              "      <th>1</th>\n",
              "      <th>2</th>\n",
              "      <th>3</th>\n",
              "    </tr>\n",
              "  </thead>\n",
              "  <tbody>\n",
              "    <tr>\n",
              "      <th>0</th>\n",
              "      <td>0.97</td>\n",
              "      <td>0.991861</td>\n",
              "      <td>0.559186</td>\n",
              "      <td>1.0</td>\n",
              "    </tr>\n",
              "    <tr>\n",
              "      <th>1</th>\n",
              "      <td>0.00</td>\n",
              "      <td>0.000008</td>\n",
              "      <td>0.463282</td>\n",
              "      <td>0.0</td>\n",
              "    </tr>\n",
              "    <tr>\n",
              "      <th>2</th>\n",
              "      <td>0.98</td>\n",
              "      <td>0.966929</td>\n",
              "      <td>0.538202</td>\n",
              "      <td>0.8</td>\n",
              "    </tr>\n",
              "    <tr>\n",
              "      <th>3</th>\n",
              "      <td>0.92</td>\n",
              "      <td>0.761539</td>\n",
              "      <td>0.509875</td>\n",
              "      <td>0.8</td>\n",
              "    </tr>\n",
              "    <tr>\n",
              "      <th>4</th>\n",
              "      <td>0.61</td>\n",
              "      <td>0.779443</td>\n",
              "      <td>0.490344</td>\n",
              "      <td>0.4</td>\n",
              "    </tr>\n",
              "    <tr>\n",
              "      <th>...</th>\n",
              "      <td>...</td>\n",
              "      <td>...</td>\n",
              "      <td>...</td>\n",
              "      <td>...</td>\n",
              "    </tr>\n",
              "    <tr>\n",
              "      <th>595</th>\n",
              "      <td>0.00</td>\n",
              "      <td>0.024239</td>\n",
              "      <td>0.461121</td>\n",
              "      <td>0.0</td>\n",
              "    </tr>\n",
              "    <tr>\n",
              "      <th>596</th>\n",
              "      <td>0.03</td>\n",
              "      <td>0.000003</td>\n",
              "      <td>0.441377</td>\n",
              "      <td>0.0</td>\n",
              "    </tr>\n",
              "    <tr>\n",
              "      <th>597</th>\n",
              "      <td>1.00</td>\n",
              "      <td>0.984385</td>\n",
              "      <td>0.532403</td>\n",
              "      <td>1.0</td>\n",
              "    </tr>\n",
              "    <tr>\n",
              "      <th>598</th>\n",
              "      <td>0.01</td>\n",
              "      <td>0.001147</td>\n",
              "      <td>0.441720</td>\n",
              "      <td>0.2</td>\n",
              "    </tr>\n",
              "    <tr>\n",
              "      <th>599</th>\n",
              "      <td>1.00</td>\n",
              "      <td>0.989540</td>\n",
              "      <td>0.559890</td>\n",
              "      <td>0.8</td>\n",
              "    </tr>\n",
              "  </tbody>\n",
              "</table>\n",
              "<p>600 rows × 4 columns</p>\n",
              "</div>"
            ],
            "text/plain": [
              "        0         1         2    3\n",
              "0    0.97  0.991861  0.559186  1.0\n",
              "1    0.00  0.000008  0.463282  0.0\n",
              "2    0.98  0.966929  0.538202  0.8\n",
              "3    0.92  0.761539  0.509875  0.8\n",
              "4    0.61  0.779443  0.490344  0.4\n",
              "..    ...       ...       ...  ...\n",
              "595  0.00  0.024239  0.461121  0.0\n",
              "596  0.03  0.000003  0.441377  0.0\n",
              "597  1.00  0.984385  0.532403  1.0\n",
              "598  0.01  0.001147  0.441720  0.2\n",
              "599  1.00  0.989540  0.559890  0.8\n",
              "\n",
              "[600 rows x 4 columns]"
            ]
          },
          "metadata": {
            "tags": []
          },
          "execution_count": 98
        }
      ]
    },
    {
      "cell_type": "code",
      "metadata": {
        "colab": {
          "base_uri": "https://localhost:8080/"
        },
        "id": "CftQFjEA5Pc0",
        "outputId": "989fe274-25b7-48f8-d29d-67648057cc59"
      },
      "source": [
        "final_prediction"
      ],
      "execution_count": 99,
      "outputs": [
        {
          "output_type": "execute_result",
          "data": {
            "text/plain": [
              "0      0.880262\n",
              "1      0.115823\n",
              "2      0.821283\n",
              "3      0.747853\n",
              "4      0.569947\n",
              "         ...   \n",
              "595    0.121340\n",
              "596    0.117845\n",
              "597    0.879197\n",
              "598    0.163217\n",
              "599    0.837357\n",
              "Length: 600, dtype: float64"
            ]
          },
          "metadata": {
            "tags": []
          },
          "execution_count": 99
        }
      ]
    },
    {
      "cell_type": "markdown",
      "metadata": {
        "id": "JJFfWNMp6K9K"
      },
      "source": [
        "> ## Caluclating the ROC Curve"
      ]
    },
    {
      "cell_type": "code",
      "metadata": {
        "colab": {
          "base_uri": "https://localhost:8080/"
        },
        "id": "3ilxaOLXy5sJ",
        "outputId": "266f8748-ce3c-4d95-948b-6952d6466173"
      },
      "source": [
        "fpr, tpr, thresholds = roc_curve(y_test, final_prediction)\n",
        "thresholds"
      ],
      "execution_count": 100,
      "outputs": [
        {
          "output_type": "execute_result",
          "data": {
            "text/plain": [
              "array([1.9134413 , 0.9134413 , 0.90906694, 0.90827475, 0.80806516,\n",
              "       0.8080558 , 0.80727971, 0.80662833, 0.77597738, 0.77571156,\n",
              "       0.76224465, 0.76037124, 0.72152563, 0.71887362, 0.71749037,\n",
              "       0.71143711, 0.68442282, 0.67743537, 0.61116701, 0.60425354,\n",
              "       0.6040152 , 0.60300386, 0.59462652, 0.58864346, 0.58406376,\n",
              "       0.58236186, 0.5696569 , 0.56469563, 0.55146627, 0.55139283,\n",
              "       0.53595371, 0.52627948, 0.52615858, 0.46472765, 0.4446034 ,\n",
              "       0.39307343, 0.39129719, 0.35433098, 0.35086612, 0.24651541,\n",
              "       0.24140421, 0.22213088, 0.22146893, 0.19688001, 0.19598417,\n",
              "       0.12301207, 0.1228351 , 0.10548439])"
            ]
          },
          "metadata": {
            "tags": []
          },
          "execution_count": 100
        }
      ]
    },
    {
      "cell_type": "code",
      "metadata": {
        "colab": {
          "base_uri": "https://localhost:8080/",
          "height": 191
        },
        "id": "Dev8f1Ke6aAp",
        "outputId": "d72b4341-0a21-4bab-b4d0-b70ad920c024"
      },
      "source": [
        "accuracy_list = []\n",
        "for threshold in thresholds:\n",
        "    y_pred = np.where(final_prediction > threshold, 1, 0)\n",
        "    accuracy_list.append(accuracy_score(y_test, y_pred, normalize=True))\n",
        "accuracy_list = pd.concat([pd.Series(thresholds), pd.Series(accuracy_list)], axis=1)\n",
        "accuracy_list.columns = ['thresholds', 'accuracy']\n",
        "accuracy_list.sort_values('accuracy', ascending=False, inplace=True)\n",
        "accuracy_list.head()"
      ],
      "execution_count": 101,
      "outputs": [
        {
          "output_type": "execute_result",
          "data": {
            "text/html": [
              "<div>\n",
              "<style scoped>\n",
              "    .dataframe tbody tr th:only-of-type {\n",
              "        vertical-align: middle;\n",
              "    }\n",
              "\n",
              "    .dataframe tbody tr th {\n",
              "        vertical-align: top;\n",
              "    }\n",
              "\n",
              "    .dataframe thead th {\n",
              "        text-align: right;\n",
              "    }\n",
              "</style>\n",
              "<table border=\"1\" class=\"dataframe\">\n",
              "  <thead>\n",
              "    <tr style=\"text-align: right;\">\n",
              "      <th></th>\n",
              "      <th>thresholds</th>\n",
              "      <th>accuracy</th>\n",
              "    </tr>\n",
              "  </thead>\n",
              "  <tbody>\n",
              "    <tr>\n",
              "      <th>34</th>\n",
              "      <td>0.444603</td>\n",
              "      <td>0.960000</td>\n",
              "    </tr>\n",
              "    <tr>\n",
              "      <th>31</th>\n",
              "      <td>0.526279</td>\n",
              "      <td>0.958333</td>\n",
              "    </tr>\n",
              "    <tr>\n",
              "      <th>33</th>\n",
              "      <td>0.464728</td>\n",
              "      <td>0.956667</td>\n",
              "    </tr>\n",
              "    <tr>\n",
              "      <th>32</th>\n",
              "      <td>0.526159</td>\n",
              "      <td>0.956667</td>\n",
              "    </tr>\n",
              "    <tr>\n",
              "      <th>30</th>\n",
              "      <td>0.535954</td>\n",
              "      <td>0.956667</td>\n",
              "    </tr>\n",
              "  </tbody>\n",
              "</table>\n",
              "</div>"
            ],
            "text/plain": [
              "    thresholds  accuracy\n",
              "34    0.444603  0.960000\n",
              "31    0.526279  0.958333\n",
              "33    0.464728  0.956667\n",
              "32    0.526159  0.956667\n",
              "30    0.535954  0.956667"
            ]
          },
          "metadata": {
            "tags": []
          },
          "execution_count": 101
        }
      ]
    },
    {
      "cell_type": "code",
      "metadata": {
        "colab": {
          "base_uri": "https://localhost:8080/",
          "height": 1000
        },
        "id": "HVTF6Wrm8Er9",
        "outputId": "fee8002e-4531-44c1-d729-1b2e6c7fc7c8"
      },
      "source": [
        "accuracy_list"
      ],
      "execution_count": 102,
      "outputs": [
        {
          "output_type": "execute_result",
          "data": {
            "text/html": [
              "<div>\n",
              "<style scoped>\n",
              "    .dataframe tbody tr th:only-of-type {\n",
              "        vertical-align: middle;\n",
              "    }\n",
              "\n",
              "    .dataframe tbody tr th {\n",
              "        vertical-align: top;\n",
              "    }\n",
              "\n",
              "    .dataframe thead th {\n",
              "        text-align: right;\n",
              "    }\n",
              "</style>\n",
              "<table border=\"1\" class=\"dataframe\">\n",
              "  <thead>\n",
              "    <tr style=\"text-align: right;\">\n",
              "      <th></th>\n",
              "      <th>thresholds</th>\n",
              "      <th>accuracy</th>\n",
              "    </tr>\n",
              "  </thead>\n",
              "  <tbody>\n",
              "    <tr>\n",
              "      <th>34</th>\n",
              "      <td>0.444603</td>\n",
              "      <td>0.960000</td>\n",
              "    </tr>\n",
              "    <tr>\n",
              "      <th>31</th>\n",
              "      <td>0.526279</td>\n",
              "      <td>0.958333</td>\n",
              "    </tr>\n",
              "    <tr>\n",
              "      <th>33</th>\n",
              "      <td>0.464728</td>\n",
              "      <td>0.956667</td>\n",
              "    </tr>\n",
              "    <tr>\n",
              "      <th>32</th>\n",
              "      <td>0.526159</td>\n",
              "      <td>0.956667</td>\n",
              "    </tr>\n",
              "    <tr>\n",
              "      <th>30</th>\n",
              "      <td>0.535954</td>\n",
              "      <td>0.956667</td>\n",
              "    </tr>\n",
              "    <tr>\n",
              "      <th>29</th>\n",
              "      <td>0.551393</td>\n",
              "      <td>0.955000</td>\n",
              "    </tr>\n",
              "    <tr>\n",
              "      <th>28</th>\n",
              "      <td>0.551466</td>\n",
              "      <td>0.953333</td>\n",
              "    </tr>\n",
              "    <tr>\n",
              "      <th>27</th>\n",
              "      <td>0.564696</td>\n",
              "      <td>0.953333</td>\n",
              "    </tr>\n",
              "    <tr>\n",
              "      <th>26</th>\n",
              "      <td>0.569657</td>\n",
              "      <td>0.951667</td>\n",
              "    </tr>\n",
              "    <tr>\n",
              "      <th>25</th>\n",
              "      <td>0.582362</td>\n",
              "      <td>0.948333</td>\n",
              "    </tr>\n",
              "    <tr>\n",
              "      <th>24</th>\n",
              "      <td>0.584064</td>\n",
              "      <td>0.946667</td>\n",
              "    </tr>\n",
              "    <tr>\n",
              "      <th>35</th>\n",
              "      <td>0.393073</td>\n",
              "      <td>0.946667</td>\n",
              "    </tr>\n",
              "    <tr>\n",
              "      <th>36</th>\n",
              "      <td>0.391297</td>\n",
              "      <td>0.945000</td>\n",
              "    </tr>\n",
              "    <tr>\n",
              "      <th>23</th>\n",
              "      <td>0.588643</td>\n",
              "      <td>0.945000</td>\n",
              "    </tr>\n",
              "    <tr>\n",
              "      <th>19</th>\n",
              "      <td>0.604254</td>\n",
              "      <td>0.943333</td>\n",
              "    </tr>\n",
              "    <tr>\n",
              "      <th>21</th>\n",
              "      <td>0.603004</td>\n",
              "      <td>0.943333</td>\n",
              "    </tr>\n",
              "    <tr>\n",
              "      <th>22</th>\n",
              "      <td>0.594627</td>\n",
              "      <td>0.943333</td>\n",
              "    </tr>\n",
              "    <tr>\n",
              "      <th>18</th>\n",
              "      <td>0.611167</td>\n",
              "      <td>0.941667</td>\n",
              "    </tr>\n",
              "    <tr>\n",
              "      <th>20</th>\n",
              "      <td>0.604015</td>\n",
              "      <td>0.941667</td>\n",
              "    </tr>\n",
              "    <tr>\n",
              "      <th>37</th>\n",
              "      <td>0.354331</td>\n",
              "      <td>0.938333</td>\n",
              "    </tr>\n",
              "    <tr>\n",
              "      <th>38</th>\n",
              "      <td>0.350866</td>\n",
              "      <td>0.936667</td>\n",
              "    </tr>\n",
              "    <tr>\n",
              "      <th>17</th>\n",
              "      <td>0.677435</td>\n",
              "      <td>0.930000</td>\n",
              "    </tr>\n",
              "    <tr>\n",
              "      <th>16</th>\n",
              "      <td>0.684423</td>\n",
              "      <td>0.928333</td>\n",
              "    </tr>\n",
              "    <tr>\n",
              "      <th>15</th>\n",
              "      <td>0.711437</td>\n",
              "      <td>0.920000</td>\n",
              "    </tr>\n",
              "    <tr>\n",
              "      <th>14</th>\n",
              "      <td>0.717490</td>\n",
              "      <td>0.918333</td>\n",
              "    </tr>\n",
              "    <tr>\n",
              "      <th>13</th>\n",
              "      <td>0.718874</td>\n",
              "      <td>0.918333</td>\n",
              "    </tr>\n",
              "    <tr>\n",
              "      <th>12</th>\n",
              "      <td>0.721526</td>\n",
              "      <td>0.916667</td>\n",
              "    </tr>\n",
              "    <tr>\n",
              "      <th>39</th>\n",
              "      <td>0.246515</td>\n",
              "      <td>0.885000</td>\n",
              "    </tr>\n",
              "    <tr>\n",
              "      <th>40</th>\n",
              "      <td>0.241404</td>\n",
              "      <td>0.883333</td>\n",
              "    </tr>\n",
              "    <tr>\n",
              "      <th>41</th>\n",
              "      <td>0.222131</td>\n",
              "      <td>0.866667</td>\n",
              "    </tr>\n",
              "    <tr>\n",
              "      <th>42</th>\n",
              "      <td>0.221469</td>\n",
              "      <td>0.865000</td>\n",
              "    </tr>\n",
              "    <tr>\n",
              "      <th>11</th>\n",
              "      <td>0.760371</td>\n",
              "      <td>0.865000</td>\n",
              "    </tr>\n",
              "    <tr>\n",
              "      <th>10</th>\n",
              "      <td>0.762245</td>\n",
              "      <td>0.863333</td>\n",
              "    </tr>\n",
              "    <tr>\n",
              "      <th>9</th>\n",
              "      <td>0.775712</td>\n",
              "      <td>0.845000</td>\n",
              "    </tr>\n",
              "    <tr>\n",
              "      <th>8</th>\n",
              "      <td>0.775977</td>\n",
              "      <td>0.843333</td>\n",
              "    </tr>\n",
              "    <tr>\n",
              "      <th>43</th>\n",
              "      <td>0.196880</td>\n",
              "      <td>0.840000</td>\n",
              "    </tr>\n",
              "    <tr>\n",
              "      <th>44</th>\n",
              "      <td>0.195984</td>\n",
              "      <td>0.838333</td>\n",
              "    </tr>\n",
              "    <tr>\n",
              "      <th>7</th>\n",
              "      <td>0.806628</td>\n",
              "      <td>0.808333</td>\n",
              "    </tr>\n",
              "    <tr>\n",
              "      <th>6</th>\n",
              "      <td>0.807280</td>\n",
              "      <td>0.806667</td>\n",
              "    </tr>\n",
              "    <tr>\n",
              "      <th>5</th>\n",
              "      <td>0.808056</td>\n",
              "      <td>0.805000</td>\n",
              "    </tr>\n",
              "    <tr>\n",
              "      <th>4</th>\n",
              "      <td>0.808065</td>\n",
              "      <td>0.803333</td>\n",
              "    </tr>\n",
              "    <tr>\n",
              "      <th>45</th>\n",
              "      <td>0.123012</td>\n",
              "      <td>0.681667</td>\n",
              "    </tr>\n",
              "    <tr>\n",
              "      <th>46</th>\n",
              "      <td>0.122835</td>\n",
              "      <td>0.680000</td>\n",
              "    </tr>\n",
              "    <tr>\n",
              "      <th>3</th>\n",
              "      <td>0.908275</td>\n",
              "      <td>0.506667</td>\n",
              "    </tr>\n",
              "    <tr>\n",
              "      <th>2</th>\n",
              "      <td>0.909067</td>\n",
              "      <td>0.505000</td>\n",
              "    </tr>\n",
              "    <tr>\n",
              "      <th>47</th>\n",
              "      <td>0.105484</td>\n",
              "      <td>0.501667</td>\n",
              "    </tr>\n",
              "    <tr>\n",
              "      <th>1</th>\n",
              "      <td>0.913441</td>\n",
              "      <td>0.500000</td>\n",
              "    </tr>\n",
              "    <tr>\n",
              "      <th>0</th>\n",
              "      <td>1.913441</td>\n",
              "      <td>0.500000</td>\n",
              "    </tr>\n",
              "  </tbody>\n",
              "</table>\n",
              "</div>"
            ],
            "text/plain": [
              "    thresholds  accuracy\n",
              "34    0.444603  0.960000\n",
              "31    0.526279  0.958333\n",
              "33    0.464728  0.956667\n",
              "32    0.526159  0.956667\n",
              "30    0.535954  0.956667\n",
              "29    0.551393  0.955000\n",
              "28    0.551466  0.953333\n",
              "27    0.564696  0.953333\n",
              "26    0.569657  0.951667\n",
              "25    0.582362  0.948333\n",
              "24    0.584064  0.946667\n",
              "35    0.393073  0.946667\n",
              "36    0.391297  0.945000\n",
              "23    0.588643  0.945000\n",
              "19    0.604254  0.943333\n",
              "21    0.603004  0.943333\n",
              "22    0.594627  0.943333\n",
              "18    0.611167  0.941667\n",
              "20    0.604015  0.941667\n",
              "37    0.354331  0.938333\n",
              "38    0.350866  0.936667\n",
              "17    0.677435  0.930000\n",
              "16    0.684423  0.928333\n",
              "15    0.711437  0.920000\n",
              "14    0.717490  0.918333\n",
              "13    0.718874  0.918333\n",
              "12    0.721526  0.916667\n",
              "39    0.246515  0.885000\n",
              "40    0.241404  0.883333\n",
              "41    0.222131  0.866667\n",
              "42    0.221469  0.865000\n",
              "11    0.760371  0.865000\n",
              "10    0.762245  0.863333\n",
              "9     0.775712  0.845000\n",
              "8     0.775977  0.843333\n",
              "43    0.196880  0.840000\n",
              "44    0.195984  0.838333\n",
              "7     0.806628  0.808333\n",
              "6     0.807280  0.806667\n",
              "5     0.808056  0.805000\n",
              "4     0.808065  0.803333\n",
              "45    0.123012  0.681667\n",
              "46    0.122835  0.680000\n",
              "3     0.908275  0.506667\n",
              "2     0.909067  0.505000\n",
              "47    0.105484  0.501667\n",
              "1     0.913441  0.500000\n",
              "0     1.913441  0.500000"
            ]
          },
          "metadata": {
            "tags": []
          },
          "execution_count": 102
        }
      ]
    },
    {
      "cell_type": "code",
      "metadata": {
        "id": "_62MQOAn8YIm"
      },
      "source": [
        "def plot_roc_curve(fpr, tpr):\n",
        "    plt.plot(fpr, tpr, color='orange', label='ROC')\n",
        "    plt.plot([0, 1], [0, 1], color='darkblue', linestyle='--')\n",
        "    plt.xlabel('False Positive Rate')\n",
        "    plt.ylabel('True Positive Rate')\n",
        "    plt.title('Receiver Operating Characteristic (ROC) Curve')\n",
        "    plt.legend()\n",
        "    plt.show()"
      ],
      "execution_count": 103,
      "outputs": []
    },
    {
      "cell_type": "code",
      "metadata": {
        "colab": {
          "base_uri": "https://localhost:8080/",
          "height": 295
        },
        "id": "V_kw4NyC9NJf",
        "outputId": "2a8de164-75ca-4310-d04b-468de015dc80"
      },
      "source": [
        "plot_roc_curve(fpr, tpr)"
      ],
      "execution_count": 104,
      "outputs": [
        {
          "output_type": "display_data",
          "data": {
            "image/png": "[encoded data removed]",
            "text/plain": [
              "<Figure size 432x288 with 1 Axes>"
            ]
          },
          "metadata": {
            "tags": []
          }
        }
      ]
    }
  ]
}