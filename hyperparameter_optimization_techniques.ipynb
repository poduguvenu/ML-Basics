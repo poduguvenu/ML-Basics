{
  "nbformat": 4,
  "nbformat_minor": 0,
  "metadata": {
    "kernelspec": {
      "display_name": "Python 3",
      "language": "python",
      "name": "python3"
    },
    "language_info": {
      "codemirror_mode": {
        "name": "ipython",
        "version": 3
      },
      "file_extension": ".py",
      "mimetype": "text/x-python",
      "name": "python",
      "nbconvert_exporter": "python",
      "pygments_lexer": "ipython3",
      "version": "3.7.6"
    },
    "colab": {
      "name": "hyperparameter-optimization-techniques.ipynb",
      "provenance": []
    },
    "widgets": {
      "application/vnd.jupyter.widget-state+json": {
        "edb1ba9f89994c62a495c7597dfbf879": {
          "model_module": "@jupyter-widgets/controls",
          "model_name": "HBoxModel",
          "state": {
            "_view_name": "HBoxView",
            "_dom_classes": [],
            "_model_name": "HBoxModel",
            "_view_module": "@jupyter-widgets/controls",
            "_model_module_version": "1.5.0",
            "_view_count": null,
            "_view_module_version": "1.5.0",
            "box_style": "",
            "layout": "IPY_MODEL_f0b20fa0aed9497f9e4abcae4b2d2ee2",
            "_model_module": "@jupyter-widgets/controls",
            "children": [
              "IPY_MODEL_9d21f09fb3754c4597a401e874c6caf7",
              "IPY_MODEL_c246da087f6a4ea3a0fe14312cd551ae"
            ]
          }
        },
        "f0b20fa0aed9497f9e4abcae4b2d2ee2": {
          "model_module": "@jupyter-widgets/base",
          "model_name": "LayoutModel",
          "state": {
            "_view_name": "LayoutView",
            "grid_template_rows": null,
            "right": null,
            "justify_content": null,
            "_view_module": "@jupyter-widgets/base",
            "overflow": null,
            "_model_module_version": "1.2.0",
            "_view_count": null,
            "flex_flow": null,
            "width": null,
            "min_width": null,
            "border": null,
            "align_items": null,
            "bottom": null,
            "_model_module": "@jupyter-widgets/base",
            "top": null,
            "grid_column": null,
            "overflow_y": null,
            "overflow_x": null,
            "grid_auto_flow": null,
            "grid_area": null,
            "grid_template_columns": null,
            "flex": null,
            "_model_name": "LayoutModel",
            "justify_items": null,
            "grid_row": null,
            "max_height": null,
            "align_content": null,
            "visibility": null,
            "align_self": null,
            "height": null,
            "min_height": null,
            "padding": null,
            "grid_auto_rows": null,
            "grid_gap": null,
            "max_width": null,
            "order": null,
            "_view_module_version": "1.2.0",
            "grid_template_areas": null,
            "object_position": null,
            "object_fit": null,
            "grid_auto_columns": null,
            "margin": null,
            "display": null,
            "left": null
          }
        },
        "9d21f09fb3754c4597a401e874c6caf7": {
          "model_module": "@jupyter-widgets/controls",
          "model_name": "FloatProgressModel",
          "state": {
            "_view_name": "ProgressView",
            "style": "IPY_MODEL_d46ee906fc324d4da32d1cf59e966400",
            "_dom_classes": [],
            "description": "Optimization Progress: 100%",
            "_model_name": "FloatProgressModel",
            "bar_style": "",
            "max": 84,
            "_view_module": "@jupyter-widgets/controls",
            "_model_module_version": "1.5.0",
            "value": 84,
            "_view_count": null,
            "_view_module_version": "1.5.0",
            "orientation": "horizontal",
            "min": 0,
            "description_tooltip": null,
            "_model_module": "@jupyter-widgets/controls",
            "layout": "IPY_MODEL_60907798bfd643edb7dda39954029880"
          }
        },
        "c246da087f6a4ea3a0fe14312cd551ae": {
          "model_module": "@jupyter-widgets/controls",
          "model_name": "HTMLModel",
          "state": {
            "_view_name": "HTMLView",
            "style": "IPY_MODEL_a5d8b8a23f754eb5aa063f306e48e7e7",
            "_dom_classes": [],
            "description": "",
            "_model_name": "HTMLModel",
            "placeholder": "​",
            "_view_module": "@jupyter-widgets/controls",
            "_model_module_version": "1.5.0",
            "value": " 84/84 [22:18&lt;00:00, 17.58s/pipeline]",
            "_view_count": null,
            "_view_module_version": "1.5.0",
            "description_tooltip": null,
            "_model_module": "@jupyter-widgets/controls",
            "layout": "IPY_MODEL_d4193b85a7a44787a6dd197dd3c4316f"
          }
        },
        "d46ee906fc324d4da32d1cf59e966400": {
          "model_module": "@jupyter-widgets/controls",
          "model_name": "ProgressStyleModel",
          "state": {
            "_view_name": "StyleView",
            "_model_name": "ProgressStyleModel",
            "description_width": "initial",
            "_view_module": "@jupyter-widgets/base",
            "_model_module_version": "1.5.0",
            "_view_count": null,
            "_view_module_version": "1.2.0",
            "bar_color": null,
            "_model_module": "@jupyter-widgets/controls"
          }
        },
        "60907798bfd643edb7dda39954029880": {
          "model_module": "@jupyter-widgets/base",
          "model_name": "LayoutModel",
          "state": {
            "_view_name": "LayoutView",
            "grid_template_rows": null,
            "right": null,
            "justify_content": null,
            "_view_module": "@jupyter-widgets/base",
            "overflow": null,
            "_model_module_version": "1.2.0",
            "_view_count": null,
            "flex_flow": null,
            "width": null,
            "min_width": null,
            "border": null,
            "align_items": null,
            "bottom": null,
            "_model_module": "@jupyter-widgets/base",
            "top": null,
            "grid_column": null,
            "overflow_y": null,
            "overflow_x": null,
            "grid_auto_flow": null,
            "grid_area": null,
            "grid_template_columns": null,
            "flex": null,
            "_model_name": "LayoutModel",
            "justify_items": null,
            "grid_row": null,
            "max_height": null,
            "align_content": null,
            "visibility": null,
            "align_self": null,
            "height": null,
            "min_height": null,
            "padding": null,
            "grid_auto_rows": null,
            "grid_gap": null,
            "max_width": null,
            "order": null,
            "_view_module_version": "1.2.0",
            "grid_template_areas": null,
            "object_position": null,
            "object_fit": null,
            "grid_auto_columns": null,
            "margin": null,
            "display": null,
            "left": null
          }
        },
        "a5d8b8a23f754eb5aa063f306e48e7e7": {
          "model_module": "@jupyter-widgets/controls",
          "model_name": "DescriptionStyleModel",
          "state": {
            "_view_name": "StyleView",
            "_model_name": "DescriptionStyleModel",
            "description_width": "",
            "_view_module": "@jupyter-widgets/base",
            "_model_module_version": "1.5.0",
            "_view_count": null,
            "_view_module_version": "1.2.0",
            "_model_module": "@jupyter-widgets/controls"
          }
        },
        "d4193b85a7a44787a6dd197dd3c4316f": {
          "model_module": "@jupyter-widgets/base",
          "model_name": "LayoutModel",
          "state": {
            "_view_name": "LayoutView",
            "grid_template_rows": null,
            "right": null,
            "justify_content": null,
            "_view_module": "@jupyter-widgets/base",
            "overflow": null,
            "_model_module_version": "1.2.0",
            "_view_count": null,
            "flex_flow": null,
            "width": null,
            "min_width": null,
            "border": null,
            "align_items": null,
            "bottom": null,
            "_model_module": "@jupyter-widgets/base",
            "top": null,
            "grid_column": null,
            "overflow_y": null,
            "overflow_x": null,
            "grid_auto_flow": null,
            "grid_area": null,
            "grid_template_columns": null,
            "flex": null,
            "_model_name": "LayoutModel",
            "justify_items": null,
            "grid_row": null,
            "max_height": null,
            "align_content": null,
            "visibility": null,
            "align_self": null,
            "height": null,
            "min_height": null,
            "padding": null,
            "grid_auto_rows": null,
            "grid_gap": null,
            "max_width": null,
            "order": null,
            "_view_module_version": "1.2.0",
            "grid_template_areas": null,
            "object_position": null,
            "object_fit": null,
            "grid_auto_columns": null,
            "margin": null,
            "display": null,
            "left": null
          }
        }
      }
    }
  },
  "cells": [
    {
      "cell_type": "markdown",
      "metadata": {
        "id": "-_YF_a-EnMsH"
      },
      "source": [
        "# Hyperparameter Optimization Techniques\n",
        "1. GridSearchCV\n",
        "2. RandomizedSearchCV\n",
        "3. Bayesian Optimization - Automate Hyperparameter Tuning (Hyperopt)\n",
        "4. Sequential Model Based Optimization(Tuning a scikit-learn estimator with skopt)\n",
        "5. Optuna - Automate Hyperparameter Tuning\n",
        "6. Genetic Algorithms (TPOT Classifier)"
      ]
    },
    {
      "cell_type": "markdown",
      "metadata": {
        "id": "bmKL297tplxa"
      },
      "source": [
        "## Importing Required Libraries"
      ]
    },
    {
      "cell_type": "code",
      "metadata": {
        "id": "8rvsRO5JnLjv"
      },
      "source": [
        "import numpy as np\n",
        "import pandas as pd\n",
        "from sklearn.model_selection import train_test_split, RandomizedSearchCV, GridSearchCV, cross_val_score\n",
        "from sklearn.ensemble import RandomForestClassifier\n",
        "from sklearn.metrics import plot_confusion_matrix, accuracy_score, classification_report, confusion_matrix\n",
        "from hyperopt import hp, fmin, tpe, STATUS_OK, Trials\n",
        "!pip install tpot --quiet\n",
        "from tpot import TPOTClassifier\n",
        "!pip install optuna --quiet\n",
        "import optuna\n",
        "import sklearn.svm\n",
        "import warnings"
      ],
      "execution_count": 66,
      "outputs": []
    },
    {
      "cell_type": "markdown",
      "metadata": {
        "id": "-TpCN1hRsDG3"
      },
      "source": [
        "## Importing the Dataset\n",
        "> The dataset has been downloaded from `PIMA Diabetes` dataset, `kaggle` datasets"
      ]
    },
    {
      "cell_type": "code",
      "metadata": {
        "id": "-DnqzE0oyVJP"
      },
      "source": [
        "warnings.filterwarnings('ignore')"
      ],
      "execution_count": null,
      "outputs": []
    },
    {
      "cell_type": "code",
      "metadata": {
        "colab": {
          "base_uri": "https://localhost:8080/",
          "height": 191
        },
        "id": "7yXzfPGesHyB",
        "outputId": "aabfc19d-16de-4686-840e-e64f8dd8175d"
      },
      "source": [
        "df = pd.read_csv('./diabetes.csv')\n",
        "df.head()"
      ],
      "execution_count": 8,
      "outputs": [
        {
          "output_type": "execute_result",
          "data": {
            "text/html": [
              "<div>\n",
              "<style scoped>\n",
              "    .dataframe tbody tr th:only-of-type {\n",
              "        vertical-align: middle;\n",
              "    }\n",
              "\n",
              "    .dataframe tbody tr th {\n",
              "        vertical-align: top;\n",
              "    }\n",
              "\n",
              "    .dataframe thead th {\n",
              "        text-align: right;\n",
              "    }\n",
              "</style>\n",
              "<table border=\"1\" class=\"dataframe\">\n",
              "  <thead>\n",
              "    <tr style=\"text-align: right;\">\n",
              "      <th></th>\n",
              "      <th>Pregnancies</th>\n",
              "      <th>Glucose</th>\n",
              "      <th>BloodPressure</th>\n",
              "      <th>SkinThickness</th>\n",
              "      <th>Insulin</th>\n",
              "      <th>BMI</th>\n",
              "      <th>DiabetesPedigreeFunction</th>\n",
              "      <th>Age</th>\n",
              "      <th>Outcome</th>\n",
              "    </tr>\n",
              "  </thead>\n",
              "  <tbody>\n",
              "    <tr>\n",
              "      <th>0</th>\n",
              "      <td>6</td>\n",
              "      <td>148</td>\n",
              "      <td>72</td>\n",
              "      <td>35</td>\n",
              "      <td>0</td>\n",
              "      <td>33.6</td>\n",
              "      <td>0.627</td>\n",
              "      <td>50</td>\n",
              "      <td>1</td>\n",
              "    </tr>\n",
              "    <tr>\n",
              "      <th>1</th>\n",
              "      <td>1</td>\n",
              "      <td>85</td>\n",
              "      <td>66</td>\n",
              "      <td>29</td>\n",
              "      <td>0</td>\n",
              "      <td>26.6</td>\n",
              "      <td>0.351</td>\n",
              "      <td>31</td>\n",
              "      <td>0</td>\n",
              "    </tr>\n",
              "    <tr>\n",
              "      <th>2</th>\n",
              "      <td>8</td>\n",
              "      <td>183</td>\n",
              "      <td>64</td>\n",
              "      <td>0</td>\n",
              "      <td>0</td>\n",
              "      <td>23.3</td>\n",
              "      <td>0.672</td>\n",
              "      <td>32</td>\n",
              "      <td>1</td>\n",
              "    </tr>\n",
              "    <tr>\n",
              "      <th>3</th>\n",
              "      <td>1</td>\n",
              "      <td>89</td>\n",
              "      <td>66</td>\n",
              "      <td>23</td>\n",
              "      <td>94</td>\n",
              "      <td>28.1</td>\n",
              "      <td>0.167</td>\n",
              "      <td>21</td>\n",
              "      <td>0</td>\n",
              "    </tr>\n",
              "    <tr>\n",
              "      <th>4</th>\n",
              "      <td>0</td>\n",
              "      <td>137</td>\n",
              "      <td>40</td>\n",
              "      <td>35</td>\n",
              "      <td>168</td>\n",
              "      <td>43.1</td>\n",
              "      <td>2.288</td>\n",
              "      <td>33</td>\n",
              "      <td>1</td>\n",
              "    </tr>\n",
              "  </tbody>\n",
              "</table>\n",
              "</div>"
            ],
            "text/plain": [
              "   Pregnancies  Glucose  BloodPressure  ...  DiabetesPedigreeFunction  Age  Outcome\n",
              "0            6      148             72  ...                     0.627   50        1\n",
              "1            1       85             66  ...                     0.351   31        0\n",
              "2            8      183             64  ...                     0.672   32        1\n",
              "3            1       89             66  ...                     0.167   21        0\n",
              "4            0      137             40  ...                     2.288   33        1\n",
              "\n",
              "[5 rows x 9 columns]"
            ]
          },
          "metadata": {
            "tags": []
          },
          "execution_count": 8
        }
      ]
    },
    {
      "cell_type": "markdown",
      "metadata": {
        "id": "31T4P9-ywoeU"
      },
      "source": [
        "## Exploratory Data Analysis"
      ]
    },
    {
      "cell_type": "code",
      "metadata": {
        "colab": {
          "base_uri": "https://localhost:8080/"
        },
        "id": "kh9ggBbitUXt",
        "outputId": "4d6dacfd-76f4-42f4-e6c3-9830ba671c7b"
      },
      "source": [
        "df.info()"
      ],
      "execution_count": 10,
      "outputs": [
        {
          "output_type": "stream",
          "text": [
            "<class 'pandas.core.frame.DataFrame'>\n",
            "RangeIndex: 768 entries, 0 to 767\n",
            "Data columns (total 9 columns):\n",
            " #   Column                    Non-Null Count  Dtype  \n",
            "---  ------                    --------------  -----  \n",
            " 0   Pregnancies               768 non-null    int64  \n",
            " 1   Glucose                   768 non-null    int64  \n",
            " 2   BloodPressure             768 non-null    int64  \n",
            " 3   SkinThickness             768 non-null    int64  \n",
            " 4   Insulin                   768 non-null    int64  \n",
            " 5   BMI                       768 non-null    float64\n",
            " 6   DiabetesPedigreeFunction  768 non-null    float64\n",
            " 7   Age                       768 non-null    int64  \n",
            " 8   Outcome                   768 non-null    int64  \n",
            "dtypes: float64(2), int64(7)\n",
            "memory usage: 54.1 KB\n"
          ],
          "name": "stdout"
        }
      ]
    },
    {
      "cell_type": "code",
      "metadata": {
        "colab": {
          "base_uri": "https://localhost:8080/",
          "height": 277
        },
        "id": "43Hye3k1tjLY",
        "outputId": "46b81eaa-a98e-42d7-8f94-5a6a2daf22d3"
      },
      "source": [
        "df.describe()"
      ],
      "execution_count": 11,
      "outputs": [
        {
          "output_type": "execute_result",
          "data": {
            "text/html": [
              "<div>\n",
              "<style scoped>\n",
              "    .dataframe tbody tr th:only-of-type {\n",
              "        vertical-align: middle;\n",
              "    }\n",
              "\n",
              "    .dataframe tbody tr th {\n",
              "        vertical-align: top;\n",
              "    }\n",
              "\n",
              "    .dataframe thead th {\n",
              "        text-align: right;\n",
              "    }\n",
              "</style>\n",
              "<table border=\"1\" class=\"dataframe\">\n",
              "  <thead>\n",
              "    <tr style=\"text-align: right;\">\n",
              "      <th></th>\n",
              "      <th>Pregnancies</th>\n",
              "      <th>Glucose</th>\n",
              "      <th>BloodPressure</th>\n",
              "      <th>SkinThickness</th>\n",
              "      <th>Insulin</th>\n",
              "      <th>BMI</th>\n",
              "      <th>DiabetesPedigreeFunction</th>\n",
              "      <th>Age</th>\n",
              "      <th>Outcome</th>\n",
              "    </tr>\n",
              "  </thead>\n",
              "  <tbody>\n",
              "    <tr>\n",
              "      <th>count</th>\n",
              "      <td>768.000000</td>\n",
              "      <td>768.000000</td>\n",
              "      <td>768.000000</td>\n",
              "      <td>768.000000</td>\n",
              "      <td>768.000000</td>\n",
              "      <td>768.000000</td>\n",
              "      <td>768.000000</td>\n",
              "      <td>768.000000</td>\n",
              "      <td>768.000000</td>\n",
              "    </tr>\n",
              "    <tr>\n",
              "      <th>mean</th>\n",
              "      <td>3.845052</td>\n",
              "      <td>120.894531</td>\n",
              "      <td>69.105469</td>\n",
              "      <td>20.536458</td>\n",
              "      <td>79.799479</td>\n",
              "      <td>31.992578</td>\n",
              "      <td>0.471876</td>\n",
              "      <td>33.240885</td>\n",
              "      <td>0.348958</td>\n",
              "    </tr>\n",
              "    <tr>\n",
              "      <th>std</th>\n",
              "      <td>3.369578</td>\n",
              "      <td>31.972618</td>\n",
              "      <td>19.355807</td>\n",
              "      <td>15.952218</td>\n",
              "      <td>115.244002</td>\n",
              "      <td>7.884160</td>\n",
              "      <td>0.331329</td>\n",
              "      <td>11.760232</td>\n",
              "      <td>0.476951</td>\n",
              "    </tr>\n",
              "    <tr>\n",
              "      <th>min</th>\n",
              "      <td>0.000000</td>\n",
              "      <td>0.000000</td>\n",
              "      <td>0.000000</td>\n",
              "      <td>0.000000</td>\n",
              "      <td>0.000000</td>\n",
              "      <td>0.000000</td>\n",
              "      <td>0.078000</td>\n",
              "      <td>21.000000</td>\n",
              "      <td>0.000000</td>\n",
              "    </tr>\n",
              "    <tr>\n",
              "      <th>25%</th>\n",
              "      <td>1.000000</td>\n",
              "      <td>99.000000</td>\n",
              "      <td>62.000000</td>\n",
              "      <td>0.000000</td>\n",
              "      <td>0.000000</td>\n",
              "      <td>27.300000</td>\n",
              "      <td>0.243750</td>\n",
              "      <td>24.000000</td>\n",
              "      <td>0.000000</td>\n",
              "    </tr>\n",
              "    <tr>\n",
              "      <th>50%</th>\n",
              "      <td>3.000000</td>\n",
              "      <td>117.000000</td>\n",
              "      <td>72.000000</td>\n",
              "      <td>23.000000</td>\n",
              "      <td>30.500000</td>\n",
              "      <td>32.000000</td>\n",
              "      <td>0.372500</td>\n",
              "      <td>29.000000</td>\n",
              "      <td>0.000000</td>\n",
              "    </tr>\n",
              "    <tr>\n",
              "      <th>75%</th>\n",
              "      <td>6.000000</td>\n",
              "      <td>140.250000</td>\n",
              "      <td>80.000000</td>\n",
              "      <td>32.000000</td>\n",
              "      <td>127.250000</td>\n",
              "      <td>36.600000</td>\n",
              "      <td>0.626250</td>\n",
              "      <td>41.000000</td>\n",
              "      <td>1.000000</td>\n",
              "    </tr>\n",
              "    <tr>\n",
              "      <th>max</th>\n",
              "      <td>17.000000</td>\n",
              "      <td>199.000000</td>\n",
              "      <td>122.000000</td>\n",
              "      <td>99.000000</td>\n",
              "      <td>846.000000</td>\n",
              "      <td>67.100000</td>\n",
              "      <td>2.420000</td>\n",
              "      <td>81.000000</td>\n",
              "      <td>1.000000</td>\n",
              "    </tr>\n",
              "  </tbody>\n",
              "</table>\n",
              "</div>"
            ],
            "text/plain": [
              "       Pregnancies     Glucose  ...         Age     Outcome\n",
              "count   768.000000  768.000000  ...  768.000000  768.000000\n",
              "mean      3.845052  120.894531  ...   33.240885    0.348958\n",
              "std       3.369578   31.972618  ...   11.760232    0.476951\n",
              "min       0.000000    0.000000  ...   21.000000    0.000000\n",
              "25%       1.000000   99.000000  ...   24.000000    0.000000\n",
              "50%       3.000000  117.000000  ...   29.000000    0.000000\n",
              "75%       6.000000  140.250000  ...   41.000000    1.000000\n",
              "max      17.000000  199.000000  ...   81.000000    1.000000\n",
              "\n",
              "[8 rows x 9 columns]"
            ]
          },
          "metadata": {
            "tags": []
          },
          "execution_count": 11
        }
      ]
    },
    {
      "cell_type": "markdown",
      "metadata": {
        "id": "9rlqVOHCvm1a"
      },
      "source": [
        "> From `describe()` function we can observe that for the columns 'Glucose', 'BloodPressure', 'SkinThickness', 'Insulin', 'BMI', the `minimum` value is `0` which is not appropriate. We will replace those `0`s with `median` value of the respected column."
      ]
    },
    {
      "cell_type": "code",
      "metadata": {
        "id": "4o2Tiojrtomb"
      },
      "source": [
        "col_list = ['Glucose', 'BloodPressure', 'SkinThickness', 'Insulin', 'BMI']\n",
        "\n",
        "def impute_zero(df, col_list):\n",
        "    for col in col_list:\n",
        "        df[col] = np.where(df[col] == 0, df[col].median(), df[col])\n",
        "\n",
        "impute_zero(df, col_list)"
      ],
      "execution_count": 12,
      "outputs": []
    },
    {
      "cell_type": "code",
      "metadata": {
        "colab": {
          "base_uri": "https://localhost:8080/",
          "height": 277
        },
        "id": "SPlMAPpZvfOR",
        "outputId": "9561c36f-64fb-413e-c28c-fded1211afcf"
      },
      "source": [
        "df.describe()"
      ],
      "execution_count": 13,
      "outputs": [
        {
          "output_type": "execute_result",
          "data": {
            "text/html": [
              "<div>\n",
              "<style scoped>\n",
              "    .dataframe tbody tr th:only-of-type {\n",
              "        vertical-align: middle;\n",
              "    }\n",
              "\n",
              "    .dataframe tbody tr th {\n",
              "        vertical-align: top;\n",
              "    }\n",
              "\n",
              "    .dataframe thead th {\n",
              "        text-align: right;\n",
              "    }\n",
              "</style>\n",
              "<table border=\"1\" class=\"dataframe\">\n",
              "  <thead>\n",
              "    <tr style=\"text-align: right;\">\n",
              "      <th></th>\n",
              "      <th>Pregnancies</th>\n",
              "      <th>Glucose</th>\n",
              "      <th>BloodPressure</th>\n",
              "      <th>SkinThickness</th>\n",
              "      <th>Insulin</th>\n",
              "      <th>BMI</th>\n",
              "      <th>DiabetesPedigreeFunction</th>\n",
              "      <th>Age</th>\n",
              "      <th>Outcome</th>\n",
              "    </tr>\n",
              "  </thead>\n",
              "  <tbody>\n",
              "    <tr>\n",
              "      <th>count</th>\n",
              "      <td>768.000000</td>\n",
              "      <td>768.000000</td>\n",
              "      <td>768.000000</td>\n",
              "      <td>768.000000</td>\n",
              "      <td>768.000000</td>\n",
              "      <td>768.000000</td>\n",
              "      <td>768.000000</td>\n",
              "      <td>768.000000</td>\n",
              "      <td>768.000000</td>\n",
              "    </tr>\n",
              "    <tr>\n",
              "      <th>mean</th>\n",
              "      <td>3.845052</td>\n",
              "      <td>121.656250</td>\n",
              "      <td>72.386719</td>\n",
              "      <td>27.334635</td>\n",
              "      <td>94.652344</td>\n",
              "      <td>32.450911</td>\n",
              "      <td>0.471876</td>\n",
              "      <td>33.240885</td>\n",
              "      <td>0.348958</td>\n",
              "    </tr>\n",
              "    <tr>\n",
              "      <th>std</th>\n",
              "      <td>3.369578</td>\n",
              "      <td>30.438286</td>\n",
              "      <td>12.096642</td>\n",
              "      <td>9.229014</td>\n",
              "      <td>105.547598</td>\n",
              "      <td>6.875366</td>\n",
              "      <td>0.331329</td>\n",
              "      <td>11.760232</td>\n",
              "      <td>0.476951</td>\n",
              "    </tr>\n",
              "    <tr>\n",
              "      <th>min</th>\n",
              "      <td>0.000000</td>\n",
              "      <td>44.000000</td>\n",
              "      <td>24.000000</td>\n",
              "      <td>7.000000</td>\n",
              "      <td>14.000000</td>\n",
              "      <td>18.200000</td>\n",
              "      <td>0.078000</td>\n",
              "      <td>21.000000</td>\n",
              "      <td>0.000000</td>\n",
              "    </tr>\n",
              "    <tr>\n",
              "      <th>25%</th>\n",
              "      <td>1.000000</td>\n",
              "      <td>99.750000</td>\n",
              "      <td>64.000000</td>\n",
              "      <td>23.000000</td>\n",
              "      <td>30.500000</td>\n",
              "      <td>27.500000</td>\n",
              "      <td>0.243750</td>\n",
              "      <td>24.000000</td>\n",
              "      <td>0.000000</td>\n",
              "    </tr>\n",
              "    <tr>\n",
              "      <th>50%</th>\n",
              "      <td>3.000000</td>\n",
              "      <td>117.000000</td>\n",
              "      <td>72.000000</td>\n",
              "      <td>23.000000</td>\n",
              "      <td>31.250000</td>\n",
              "      <td>32.000000</td>\n",
              "      <td>0.372500</td>\n",
              "      <td>29.000000</td>\n",
              "      <td>0.000000</td>\n",
              "    </tr>\n",
              "    <tr>\n",
              "      <th>75%</th>\n",
              "      <td>6.000000</td>\n",
              "      <td>140.250000</td>\n",
              "      <td>80.000000</td>\n",
              "      <td>32.000000</td>\n",
              "      <td>127.250000</td>\n",
              "      <td>36.600000</td>\n",
              "      <td>0.626250</td>\n",
              "      <td>41.000000</td>\n",
              "      <td>1.000000</td>\n",
              "    </tr>\n",
              "    <tr>\n",
              "      <th>max</th>\n",
              "      <td>17.000000</td>\n",
              "      <td>199.000000</td>\n",
              "      <td>122.000000</td>\n",
              "      <td>99.000000</td>\n",
              "      <td>846.000000</td>\n",
              "      <td>67.100000</td>\n",
              "      <td>2.420000</td>\n",
              "      <td>81.000000</td>\n",
              "      <td>1.000000</td>\n",
              "    </tr>\n",
              "  </tbody>\n",
              "</table>\n",
              "</div>"
            ],
            "text/plain": [
              "       Pregnancies     Glucose  ...         Age     Outcome\n",
              "count   768.000000  768.000000  ...  768.000000  768.000000\n",
              "mean      3.845052  121.656250  ...   33.240885    0.348958\n",
              "std       3.369578   30.438286  ...   11.760232    0.476951\n",
              "min       0.000000   44.000000  ...   21.000000    0.000000\n",
              "25%       1.000000   99.750000  ...   24.000000    0.000000\n",
              "50%       3.000000  117.000000  ...   29.000000    0.000000\n",
              "75%       6.000000  140.250000  ...   41.000000    1.000000\n",
              "max      17.000000  199.000000  ...   81.000000    1.000000\n",
              "\n",
              "[8 rows x 9 columns]"
            ]
          },
          "metadata": {
            "tags": []
          },
          "execution_count": 13
        }
      ]
    },
    {
      "cell_type": "markdown",
      "metadata": {
        "id": "Jujp0ouRwtBj"
      },
      "source": [
        "## Extracting Dependent and Independent Features"
      ]
    },
    {
      "cell_type": "code",
      "metadata": {
        "id": "-eNzeCkWvhEE"
      },
      "source": [
        "X = df.drop('Outcome', axis=1)\n",
        "y = df['Outcome']"
      ],
      "execution_count": 14,
      "outputs": []
    },
    {
      "cell_type": "code",
      "metadata": {
        "colab": {
          "base_uri": "https://localhost:8080/",
          "height": 191
        },
        "id": "-Uw_sj1vxDta",
        "outputId": "6562c7bb-271a-4fc3-ac7b-c9093d3f0592"
      },
      "source": [
        "X.head()"
      ],
      "execution_count": 15,
      "outputs": [
        {
          "output_type": "execute_result",
          "data": {
            "text/html": [
              "<div>\n",
              "<style scoped>\n",
              "    .dataframe tbody tr th:only-of-type {\n",
              "        vertical-align: middle;\n",
              "    }\n",
              "\n",
              "    .dataframe tbody tr th {\n",
              "        vertical-align: top;\n",
              "    }\n",
              "\n",
              "    .dataframe thead th {\n",
              "        text-align: right;\n",
              "    }\n",
              "</style>\n",
              "<table border=\"1\" class=\"dataframe\">\n",
              "  <thead>\n",
              "    <tr style=\"text-align: right;\">\n",
              "      <th></th>\n",
              "      <th>Pregnancies</th>\n",
              "      <th>Glucose</th>\n",
              "      <th>BloodPressure</th>\n",
              "      <th>SkinThickness</th>\n",
              "      <th>Insulin</th>\n",
              "      <th>BMI</th>\n",
              "      <th>DiabetesPedigreeFunction</th>\n",
              "      <th>Age</th>\n",
              "    </tr>\n",
              "  </thead>\n",
              "  <tbody>\n",
              "    <tr>\n",
              "      <th>0</th>\n",
              "      <td>6</td>\n",
              "      <td>148.0</td>\n",
              "      <td>72.0</td>\n",
              "      <td>35.0</td>\n",
              "      <td>30.5</td>\n",
              "      <td>33.6</td>\n",
              "      <td>0.627</td>\n",
              "      <td>50</td>\n",
              "    </tr>\n",
              "    <tr>\n",
              "      <th>1</th>\n",
              "      <td>1</td>\n",
              "      <td>85.0</td>\n",
              "      <td>66.0</td>\n",
              "      <td>29.0</td>\n",
              "      <td>30.5</td>\n",
              "      <td>26.6</td>\n",
              "      <td>0.351</td>\n",
              "      <td>31</td>\n",
              "    </tr>\n",
              "    <tr>\n",
              "      <th>2</th>\n",
              "      <td>8</td>\n",
              "      <td>183.0</td>\n",
              "      <td>64.0</td>\n",
              "      <td>23.0</td>\n",
              "      <td>30.5</td>\n",
              "      <td>23.3</td>\n",
              "      <td>0.672</td>\n",
              "      <td>32</td>\n",
              "    </tr>\n",
              "    <tr>\n",
              "      <th>3</th>\n",
              "      <td>1</td>\n",
              "      <td>89.0</td>\n",
              "      <td>66.0</td>\n",
              "      <td>23.0</td>\n",
              "      <td>94.0</td>\n",
              "      <td>28.1</td>\n",
              "      <td>0.167</td>\n",
              "      <td>21</td>\n",
              "    </tr>\n",
              "    <tr>\n",
              "      <th>4</th>\n",
              "      <td>0</td>\n",
              "      <td>137.0</td>\n",
              "      <td>40.0</td>\n",
              "      <td>35.0</td>\n",
              "      <td>168.0</td>\n",
              "      <td>43.1</td>\n",
              "      <td>2.288</td>\n",
              "      <td>33</td>\n",
              "    </tr>\n",
              "  </tbody>\n",
              "</table>\n",
              "</div>"
            ],
            "text/plain": [
              "   Pregnancies  Glucose  BloodPressure  ...   BMI  DiabetesPedigreeFunction  Age\n",
              "0            6    148.0           72.0  ...  33.6                     0.627   50\n",
              "1            1     85.0           66.0  ...  26.6                     0.351   31\n",
              "2            8    183.0           64.0  ...  23.3                     0.672   32\n",
              "3            1     89.0           66.0  ...  28.1                     0.167   21\n",
              "4            0    137.0           40.0  ...  43.1                     2.288   33\n",
              "\n",
              "[5 rows x 8 columns]"
            ]
          },
          "metadata": {
            "tags": []
          },
          "execution_count": 15
        }
      ]
    },
    {
      "cell_type": "code",
      "metadata": {
        "colab": {
          "base_uri": "https://localhost:8080/"
        },
        "id": "sXquHOsgxIzP",
        "outputId": "95fb818c-cdf2-4567-824c-d856fcf2c06d"
      },
      "source": [
        "y.head()"
      ],
      "execution_count": 16,
      "outputs": [
        {
          "output_type": "execute_result",
          "data": {
            "text/plain": [
              "0    1\n",
              "1    0\n",
              "2    1\n",
              "3    0\n",
              "4    1\n",
              "Name: Outcome, dtype: int64"
            ]
          },
          "metadata": {
            "tags": []
          },
          "execution_count": 16
        }
      ]
    },
    {
      "cell_type": "markdown",
      "metadata": {
        "id": "9p4x3Ab4xopX"
      },
      "source": [
        "## Splitting the dataset into Training and Testing sets"
      ]
    },
    {
      "cell_type": "code",
      "metadata": {
        "id": "k22N3AlitdxG"
      },
      "source": [
        "X_train, X_test, y_train, y_test = train_test_split(X, y, test_size=0.2, random_state=33)"
      ],
      "execution_count": 18,
      "outputs": []
    },
    {
      "cell_type": "markdown",
      "metadata": {
        "id": "EU7A5y-80OVZ"
      },
      "source": [
        "## Fitting the preliminary model and testing the metrics"
      ]
    },
    {
      "cell_type": "code",
      "metadata": {
        "id": "jFoxjV96ySRy"
      },
      "source": [
        "rf_clf = RandomForestClassifier(n_estimators=10).fit(X_train, y_train)\n",
        "y_pred = rf_clf.predict(X_test)"
      ],
      "execution_count": 19,
      "outputs": []
    },
    {
      "cell_type": "code",
      "metadata": {
        "colab": {
          "base_uri": "https://localhost:8080/"
        },
        "id": "zkC2p0xWyoWt",
        "outputId": "21955fdd-0035-4e33-954a-cc5d1fa5cb6c"
      },
      "source": [
        "accuracy_score(y_test, y_pred)"
      ],
      "execution_count": 21,
      "outputs": [
        {
          "output_type": "execute_result",
          "data": {
            "text/plain": [
              "0.7142857142857143"
            ]
          },
          "metadata": {
            "tags": []
          },
          "execution_count": 21
        }
      ]
    },
    {
      "cell_type": "code",
      "metadata": {
        "colab": {
          "base_uri": "https://localhost:8080/"
        },
        "id": "qLXIaMFB0fzb",
        "outputId": "cc5bb20f-2dae-42c9-fa4a-53119cfe855b"
      },
      "source": [
        "print(classification_report(y_test, y_pred))"
      ],
      "execution_count": 29,
      "outputs": [
        {
          "output_type": "stream",
          "text": [
            "              precision    recall  f1-score   support\n",
            "\n",
            "           0       0.75      0.83      0.79        99\n",
            "           1       0.62      0.51      0.56        55\n",
            "\n",
            "    accuracy                           0.71       154\n",
            "   macro avg       0.69      0.67      0.67       154\n",
            "weighted avg       0.71      0.71      0.71       154\n",
            "\n"
          ],
          "name": "stdout"
        }
      ]
    },
    {
      "cell_type": "code",
      "metadata": {
        "colab": {
          "base_uri": "https://localhost:8080/"
        },
        "id": "zsJri_uwzvCm",
        "outputId": "1b90d5cb-6ac3-4905-aa5c-a804e4b4abfc"
      },
      "source": [
        "y.value_counts()"
      ],
      "execution_count": 24,
      "outputs": [
        {
          "output_type": "execute_result",
          "data": {
            "text/plain": [
              "0    500\n",
              "1    268\n",
              "Name: Outcome, dtype: int64"
            ]
          },
          "metadata": {
            "tags": []
          },
          "execution_count": 24
        }
      ]
    },
    {
      "cell_type": "code",
      "metadata": {
        "colab": {
          "base_uri": "https://localhost:8080/",
          "height": 295
        },
        "id": "Wp1iVo5vy5Ly",
        "outputId": "9c9d4256-d3eb-44f3-841f-a0be88103310"
      },
      "source": [
        "plot_confusion_matrix(rf_clf, X_test, y_test, display_labels=['Non Diabetic', 'Diabetic'], values_format='d')"
      ],
      "execution_count": 26,
      "outputs": [
        {
          "output_type": "execute_result",
          "data": {
            "text/plain": [
              "<sklearn.metrics._plot.confusion_matrix.ConfusionMatrixDisplay at 0x7fabd9bf3750>"
            ]
          },
          "metadata": {
            "tags": []
          },
          "execution_count": 26
        },
        {
          "output_type": "display_data",
          "data": {
            "image/png": "[encoded data removed]",
            "text/plain": [
              "<Figure size 432x288 with 2 Axes>"
            ]
          },
          "metadata": {
            "tags": [],
            "needs_background": "light"
          }
        }
      ]
    },
    {
      "cell_type": "markdown",
      "metadata": {
        "id": "-iHu56MP1efk"
      },
      "source": [
        "> ## The main parameters used by a RandomForestClassifier are:\n",
        "- `Criterion`: The function used to evaluate the quality of a split\n",
        "- `max_depth`: Maximum no.of levels allowed in each tree\n",
        "- `max_features`: Maximum no.of features considered when splitting a node\n",
        "- `min_samples_leaf`: Minimum no.of samples which can be soted in a tree leaf\n",
        "- `min_samples_split`: Minimum no.of samples necessary in a node to cause node splitting\n",
        "- `n_estimators` = No.of trees in the ensemble"
      ]
    },
    {
      "cell_type": "markdown",
      "metadata": {
        "id": "-CXzZDpw2zkF"
      },
      "source": [
        "> ### Manual Hyperparameter Tuning"
      ]
    },
    {
      "cell_type": "code",
      "metadata": {
        "id": "Eo8TA4z5sQUs"
      },
      "source": [
        "model = RandomForestClassifier(n_estimators=300, \n",
        "                               criterion='entropy', \n",
        "                               max_features='sqrt', \n",
        "                               min_samples_leaf=10, \n",
        "                               random_state=100)\n",
        "model.fit(X_train, y_train)\n",
        "y_pred = model.predict(X_test)            "
      ],
      "execution_count": 31,
      "outputs": []
    },
    {
      "cell_type": "code",
      "metadata": {
        "colab": {
          "base_uri": "https://localhost:8080/"
        },
        "id": "0RMMKeAT3wRK",
        "outputId": "4630cda1-e9a2-4ecf-e11e-1d4cb546333d"
      },
      "source": [
        "accuracy_score(y_test, y_pred)"
      ],
      "execution_count": 32,
      "outputs": [
        {
          "output_type": "execute_result",
          "data": {
            "text/plain": [
              "0.7467532467532467"
            ]
          },
          "metadata": {
            "tags": []
          },
          "execution_count": 32
        }
      ]
    },
    {
      "cell_type": "code",
      "metadata": {
        "colab": {
          "base_uri": "https://localhost:8080/"
        },
        "id": "y_boAXn_30rq",
        "outputId": "2a858bec-8230-41fd-8188-7d5af3f53c82"
      },
      "source": [
        "print(classification_report(y_test, y_pred))"
      ],
      "execution_count": 33,
      "outputs": [
        {
          "output_type": "stream",
          "text": [
            "              precision    recall  f1-score   support\n",
            "\n",
            "           0       0.76      0.88      0.82        99\n",
            "           1       0.70      0.51      0.59        55\n",
            "\n",
            "    accuracy                           0.75       154\n",
            "   macro avg       0.73      0.69      0.70       154\n",
            "weighted avg       0.74      0.75      0.74       154\n",
            "\n"
          ],
          "name": "stdout"
        }
      ]
    },
    {
      "cell_type": "code",
      "metadata": {
        "colab": {
          "base_uri": "https://localhost:8080/"
        },
        "id": "dtYfQV-z4Eji",
        "outputId": "7192f3b2-d7af-4e91-b8e6-954ffeccd8a2"
      },
      "source": [
        "confusion_matrix(y_test, y_pred)"
      ],
      "execution_count": 36,
      "outputs": [
        {
          "output_type": "execute_result",
          "data": {
            "text/plain": [
              "array([[87, 12],\n",
              "       [27, 28]])"
            ]
          },
          "metadata": {
            "tags": []
          },
          "execution_count": 36
        }
      ]
    },
    {
      "cell_type": "code",
      "metadata": {
        "colab": {
          "base_uri": "https://localhost:8080/",
          "height": 295
        },
        "id": "kXeXihHZ4I51",
        "outputId": "a4f4e03a-b5e8-4b7f-abb3-fff36ce0090e"
      },
      "source": [
        "plot_confusion_matrix(model, X_test, y_test, display_labels=['Non Diabetic', 'Diabetic'], values_format='d')"
      ],
      "execution_count": 37,
      "outputs": [
        {
          "output_type": "execute_result",
          "data": {
            "text/plain": [
              "<sklearn.metrics._plot.confusion_matrix.ConfusionMatrixDisplay at 0x7fabd9b40690>"
            ]
          },
          "metadata": {
            "tags": []
          },
          "execution_count": 37
        },
        {
          "output_type": "display_data",
          "data": {
            "image/png": "[encoded data removed]",
            "text/plain": [
              "<Figure size 432x288 with 2 Axes>"
            ]
          },
          "metadata": {
            "tags": [],
            "needs_background": "light"
          }
        }
      ]
    },
    {
      "cell_type": "markdown",
      "metadata": {
        "id": "A_he4M_t4cBy"
      },
      "source": [
        "## Hyperparameter Optimization using RandomizedSearchCV\n",
        "> RandomizedSearchCV narrows down our search results"
      ]
    },
    {
      "cell_type": "code",
      "metadata": {
        "id": "PTOAoTLC4XSh"
      },
      "source": [
        "# Defining Parameters\n",
        "random_params = {'n_estimators': [int(x) for x in np.linspace(start=200, stop=2000, num=10)],\n",
        "                 'criterion': ['entropy', 'gini'],\n",
        "                 'max_features': ['auto', 'sqrt', 'log2'],\n",
        "                 'max_depth': [int(x) for x in np.linspace(10, 1000, 10)],\n",
        "                 'min_samples_split': [1, 2, 3, 4, 5, 7, 9],\n",
        "                 'min_samples_leaf': [1, 2, 4, 6, 8]\n",
        "                 }"
      ],
      "execution_count": 39,
      "outputs": []
    },
    {
      "cell_type": "code",
      "metadata": {
        "colab": {
          "base_uri": "https://localhost:8080/"
        },
        "id": "jakFc81LqQ_T",
        "outputId": "2ca8e9a4-87f3-4453-8ebc-7e4a076fc03f"
      },
      "source": [
        "print(random_params)"
      ],
      "execution_count": 41,
      "outputs": [
        {
          "output_type": "stream",
          "text": [
            "dict_items([('n_estimators', [200, 400, 600, 800, 1000, 1200, 1400, 1600, 1800, 2000]), ('criterion', ['entropy', 'gini']), ('max_features', ['auto', 'sqrt', 'log2']), ('max_depth', [10, 120, 230, 340, 450, 560, 670, 780, 890, 1000]), ('min_samples_split', [1, 2, 3, 4, 5, 7, 9]), ('min_samples_leaf', [1, 2, 4, 6, 8])])\n"
          ],
          "name": "stdout"
        }
      ]
    },
    {
      "cell_type": "code",
      "metadata": {
        "colab": {
          "base_uri": "https://localhost:8080/"
        },
        "id": "Mu4VzV7cDnVv",
        "outputId": "1b3689ad-52f2-458b-f6d5-7bd938fc1518"
      },
      "source": [
        "clf = RandomForestClassifier()\n",
        "random_cv = RandomizedSearchCV(clf, param_distributions=random_params, n_iter=100, \n",
        "                               cv=3, verbose=2, random_state=100, n_jobs=-1)\n",
        "random_cv.fit(X_train, y_train)"
      ],
      "execution_count": 43,
      "outputs": [
        {
          "output_type": "stream",
          "text": [
            "Fitting 3 folds for each of 100 candidates, totalling 300 fits\n"
          ],
          "name": "stdout"
        },
        {
          "output_type": "stream",
          "text": [
            "[Parallel(n_jobs=-1)]: Using backend LokyBackend with 2 concurrent workers.\n",
            "[Parallel(n_jobs=-1)]: Done  37 tasks      | elapsed:   37.4s\n",
            "[Parallel(n_jobs=-1)]: Done 158 tasks      | elapsed:  3.8min\n",
            "[Parallel(n_jobs=-1)]: Done 300 out of 300 | elapsed:  7.6min finished\n"
          ],
          "name": "stderr"
        },
        {
          "output_type": "execute_result",
          "data": {
            "text/plain": [
              "RandomizedSearchCV(cv=3, error_score=nan,\n",
              "                   estimator=RandomForestClassifier(bootstrap=True,\n",
              "                                                    ccp_alpha=0.0,\n",
              "                                                    class_weight=None,\n",
              "                                                    criterion='gini',\n",
              "                                                    max_depth=None,\n",
              "                                                    max_features='auto',\n",
              "                                                    max_leaf_nodes=None,\n",
              "                                                    max_samples=None,\n",
              "                                                    min_impurity_decrease=0.0,\n",
              "                                                    min_impurity_split=None,\n",
              "                                                    min_samples_leaf=1,\n",
              "                                                    min_samples_split=2,\n",
              "                                                    min_weight_fraction_leaf=0.0,\n",
              "                                                    n_estimators=100,\n",
              "                                                    n_jobs...\n",
              "                   param_distributions={'criterion': ['entropy', 'gini'],\n",
              "                                        'max_depth': [10, 120, 230, 340, 450,\n",
              "                                                      560, 670, 780, 890,\n",
              "                                                      1000],\n",
              "                                        'max_features': ['auto', 'sqrt',\n",
              "                                                         'log2'],\n",
              "                                        'min_samples_leaf': [1, 2, 4, 6, 8],\n",
              "                                        'min_samples_split': [1, 2, 3, 4, 5, 7,\n",
              "                                                              9],\n",
              "                                        'n_estimators': [200, 400, 600, 800,\n",
              "                                                         1000, 1200, 1400, 1600,\n",
              "                                                         1800, 2000]},\n",
              "                   pre_dispatch='2*n_jobs', random_state=100, refit=True,\n",
              "                   return_train_score=False, scoring=None, verbose=2)"
            ]
          },
          "metadata": {
            "tags": []
          },
          "execution_count": 43
        }
      ]
    },
    {
      "cell_type": "code",
      "metadata": {
        "colab": {
          "base_uri": "https://localhost:8080/"
        },
        "id": "5J-xX8itFU-m",
        "outputId": "e8354d78-72ad-413e-967d-831a065256ab"
      },
      "source": [
        "random_cv.best_params_"
      ],
      "execution_count": 44,
      "outputs": [
        {
          "output_type": "execute_result",
          "data": {
            "text/plain": [
              "{'criterion': 'gini',\n",
              " 'max_depth': 120,\n",
              " 'max_features': 'log2',\n",
              " 'min_samples_leaf': 8,\n",
              " 'min_samples_split': 5,\n",
              " 'n_estimators': 400}"
            ]
          },
          "metadata": {
            "tags": []
          },
          "execution_count": 44
        }
      ]
    },
    {
      "cell_type": "code",
      "metadata": {
        "colab": {
          "base_uri": "https://localhost:8080/"
        },
        "id": "eXCIGoxiDfEI",
        "outputId": "9d6b9c1f-fb6d-4065-c404-643476440579"
      },
      "source": [
        "random_cv.best_estimator_"
      ],
      "execution_count": 45,
      "outputs": [
        {
          "output_type": "execute_result",
          "data": {
            "text/plain": [
              "RandomForestClassifier(bootstrap=True, ccp_alpha=0.0, class_weight=None,\n",
              "                       criterion='gini', max_depth=120, max_features='log2',\n",
              "                       max_leaf_nodes=None, max_samples=None,\n",
              "                       min_impurity_decrease=0.0, min_impurity_split=None,\n",
              "                       min_samples_leaf=8, min_samples_split=5,\n",
              "                       min_weight_fraction_leaf=0.0, n_estimators=400,\n",
              "                       n_jobs=None, oob_score=False, random_state=None,\n",
              "                       verbose=0, warm_start=False)"
            ]
          },
          "metadata": {
            "tags": []
          },
          "execution_count": 45
        }
      ]
    },
    {
      "cell_type": "code",
      "metadata": {
        "id": "t-E47y6wqbFQ"
      },
      "source": [
        "best_random_cv = random_cv.best_estimator_"
      ],
      "execution_count": 46,
      "outputs": []
    },
    {
      "cell_type": "code",
      "metadata": {
        "id": "3xJRrdvIr-b1"
      },
      "source": [
        "y_pred = best_random_cv.predict(X_test)"
      ],
      "execution_count": 47,
      "outputs": []
    },
    {
      "cell_type": "code",
      "metadata": {
        "colab": {
          "base_uri": "https://localhost:8080/"
        },
        "id": "ow8dpGfcrzSW",
        "outputId": "bb803b77-866f-4649-a784-026474c06ad7"
      },
      "source": [
        "accuracy_score(y_test, y_pred)"
      ],
      "execution_count": 48,
      "outputs": [
        {
          "output_type": "execute_result",
          "data": {
            "text/plain": [
              "0.7467532467532467"
            ]
          },
          "metadata": {
            "tags": []
          },
          "execution_count": 48
        }
      ]
    },
    {
      "cell_type": "markdown",
      "metadata": {
        "id": "S7-iDaHDIpDT"
      },
      "source": [
        "## Hyperparameter Optimization using GridSearchCV"
      ]
    },
    {
      "cell_type": "code",
      "metadata": {
        "colab": {
          "base_uri": "https://localhost:8080/"
        },
        "id": "hZgnygQ_IIHh",
        "outputId": "26e5a028-a52b-42f8-f007-07d0c9bb1dac"
      },
      "source": [
        "param_grid = {\n",
        "    'criterion': [random_cv.best_params_['criterion']],\n",
        "    'max_depth': [random_cv.best_params_['max_depth']],\n",
        "    'max_features': [random_cv.best_params_['max_features']],\n",
        "    'min_samples_leaf': [random_cv.best_params_['min_samples_leaf'], \n",
        "                         random_cv.best_params_['min_samples_leaf']+2, \n",
        "                         random_cv.best_params_['min_samples_leaf'] + 4],\n",
        "    'min_samples_split': [random_cv.best_params_['min_samples_split'] - 2,\n",
        "                          random_cv.best_params_['min_samples_split'] - 1,\n",
        "                          random_cv.best_params_['min_samples_split'], \n",
        "                          random_cv.best_params_['min_samples_split'] +1,\n",
        "                          random_cv.best_params_['min_samples_split'] + 2],\n",
        "    'n_estimators': [random_cv.best_params_['n_estimators'] - 200, random_cv.best_params_['n_estimators'] - 100, \n",
        "                     random_cv.best_params_['n_estimators'], \n",
        "                     random_cv.best_params_['n_estimators'] + 100, random_cv.best_params_['n_estimators'] + 200]\n",
        "}\n",
        "\n",
        "print(param_grid)"
      ],
      "execution_count": 54,
      "outputs": [
        {
          "output_type": "stream",
          "text": [
            "{'criterion': ['gini'], 'max_depth': [120], 'max_features': ['log2'], 'min_samples_leaf': [8, 10, 12], 'min_samples_split': [3, 4, 5, 6, 7], 'n_estimators': [200, 300, 400, 500, 600]}\n"
          ],
          "name": "stdout"
        }
      ]
    },
    {
      "cell_type": "code",
      "metadata": {
        "colab": {
          "base_uri": "https://localhost:8080/"
        },
        "id": "nFm36rEcKjPw",
        "outputId": "37bd50b1-94eb-48bb-ae2e-392a9a7417ae"
      },
      "source": [
        "clf = RandomForestClassifier()\n",
        "grid_cv = GridSearchCV(clf, param_grid=param_grid, n_jobs=-1, cv=10, verbose=2)\n",
        "grid_cv.fit(X_train, y_train)"
      ],
      "execution_count": 55,
      "outputs": [
        {
          "output_type": "stream",
          "text": [
            "Fitting 10 folds for each of 75 candidates, totalling 750 fits\n"
          ],
          "name": "stdout"
        },
        {
          "output_type": "stream",
          "text": [
            "[Parallel(n_jobs=-1)]: Using backend LokyBackend with 2 concurrent workers.\n",
            "[Parallel(n_jobs=-1)]: Done  37 tasks      | elapsed:   22.2s\n",
            "[Parallel(n_jobs=-1)]: Done 158 tasks      | elapsed:  1.7min\n",
            "[Parallel(n_jobs=-1)]: Done 361 tasks      | elapsed:  3.8min\n",
            "[Parallel(n_jobs=-1)]: Done 644 tasks      | elapsed:  6.8min\n",
            "[Parallel(n_jobs=-1)]: Done 750 out of 750 | elapsed:  7.8min finished\n"
          ],
          "name": "stderr"
        },
        {
          "output_type": "execute_result",
          "data": {
            "text/plain": [
              "GridSearchCV(cv=10, error_score=nan,\n",
              "             estimator=RandomForestClassifier(bootstrap=True, ccp_alpha=0.0,\n",
              "                                              class_weight=None,\n",
              "                                              criterion='gini', max_depth=None,\n",
              "                                              max_features='auto',\n",
              "                                              max_leaf_nodes=None,\n",
              "                                              max_samples=None,\n",
              "                                              min_impurity_decrease=0.0,\n",
              "                                              min_impurity_split=None,\n",
              "                                              min_samples_leaf=1,\n",
              "                                              min_samples_split=2,\n",
              "                                              min_weight_fraction_leaf=0.0,\n",
              "                                              n_estimators=100, n_jobs=None,\n",
              "                                              oob_score=False,\n",
              "                                              random_state=None, verbose=0,\n",
              "                                              warm_start=False),\n",
              "             iid='deprecated', n_jobs=-1,\n",
              "             param_grid={'criterion': ['gini'], 'max_depth': [120],\n",
              "                         'max_features': ['log2'],\n",
              "                         'min_samples_leaf': [8, 10, 12],\n",
              "                         'min_samples_split': [3, 4, 5, 6, 7],\n",
              "                         'n_estimators': [200, 300, 400, 500, 600]},\n",
              "             pre_dispatch='2*n_jobs', refit=True, return_train_score=False,\n",
              "             scoring=None, verbose=2)"
            ]
          },
          "metadata": {
            "tags": []
          },
          "execution_count": 55
        }
      ]
    },
    {
      "cell_type": "code",
      "metadata": {
        "colab": {
          "base_uri": "https://localhost:8080/"
        },
        "id": "gX4iLF6sOj1-",
        "outputId": "5a257131-336e-454f-f485-cffed9101896"
      },
      "source": [
        "grid_cv.best_estimator_"
      ],
      "execution_count": 64,
      "outputs": [
        {
          "output_type": "execute_result",
          "data": {
            "text/plain": [
              "RandomForestClassifier(bootstrap=True, ccp_alpha=0.0, class_weight=None,\n",
              "                       criterion='gini', max_depth=120, max_features='log2',\n",
              "                       max_leaf_nodes=None, max_samples=None,\n",
              "                       min_impurity_decrease=0.0, min_impurity_split=None,\n",
              "                       min_samples_leaf=10, min_samples_split=5,\n",
              "                       min_weight_fraction_leaf=0.0, n_estimators=400,\n",
              "                       n_jobs=None, oob_score=False, random_state=None,\n",
              "                       verbose=0, warm_start=False)"
            ]
          },
          "metadata": {
            "tags": []
          },
          "execution_count": 64
        }
      ]
    },
    {
      "cell_type": "code",
      "metadata": {
        "id": "Fy34pLUYLRYf"
      },
      "source": [
        "grid_best_estimator = grid_cv.best_estimator_"
      ],
      "execution_count": 56,
      "outputs": []
    },
    {
      "cell_type": "code",
      "metadata": {
        "id": "UvfZXplpLefh"
      },
      "source": [
        "y_pred = grid_best_estimator.predict(X_test)"
      ],
      "execution_count": 57,
      "outputs": []
    },
    {
      "cell_type": "code",
      "metadata": {
        "colab": {
          "base_uri": "https://localhost:8080/"
        },
        "id": "ZyVvvQ5zLjOU",
        "outputId": "f2e323a4-88d8-48aa-9c7b-416b29036705"
      },
      "source": [
        "accuracy_score(y_test, y_pred)"
      ],
      "execution_count": 58,
      "outputs": [
        {
          "output_type": "execute_result",
          "data": {
            "text/plain": [
              "0.7532467532467533"
            ]
          },
          "metadata": {
            "tags": []
          },
          "execution_count": 58
        }
      ]
    },
    {
      "cell_type": "code",
      "metadata": {
        "colab": {
          "base_uri": "https://localhost:8080/"
        },
        "id": "ALPubuyoLueL",
        "outputId": "20d8a1e0-c669-485f-adda-b855d89453e4"
      },
      "source": [
        "print(classification_report(y_test, y_pred))"
      ],
      "execution_count": 59,
      "outputs": [
        {
          "output_type": "stream",
          "text": [
            "              precision    recall  f1-score   support\n",
            "\n",
            "           0       0.77      0.87      0.82        99\n",
            "           1       0.70      0.55      0.61        55\n",
            "\n",
            "    accuracy                           0.75       154\n",
            "   macro avg       0.74      0.71      0.72       154\n",
            "weighted avg       0.75      0.75      0.75       154\n",
            "\n"
          ],
          "name": "stdout"
        }
      ]
    },
    {
      "cell_type": "code",
      "metadata": {
        "colab": {
          "base_uri": "https://localhost:8080/"
        },
        "id": "Mj5-kvJgL9ed",
        "outputId": "2c1822cc-81e4-44a5-c9e8-6b0955188318"
      },
      "source": [
        "confusion_matrix(y_test, y_pred)"
      ],
      "execution_count": 60,
      "outputs": [
        {
          "output_type": "execute_result",
          "data": {
            "text/plain": [
              "array([[86, 13],\n",
              "       [25, 30]])"
            ]
          },
          "metadata": {
            "tags": []
          },
          "execution_count": 60
        }
      ]
    },
    {
      "cell_type": "code",
      "metadata": {
        "colab": {
          "base_uri": "https://localhost:8080/",
          "height": 295
        },
        "id": "y1LBuIADMFbD",
        "outputId": "49be54b4-9a28-45cb-b660-1eb98dd22771"
      },
      "source": [
        "plot_confusion_matrix(grid_best_estimator, X_test, y_test, display_labels=['Non Diabetic, Diabetic'], values_format='d')"
      ],
      "execution_count": 63,
      "outputs": [
        {
          "output_type": "execute_result",
          "data": {
            "text/plain": [
              "<sklearn.metrics._plot.confusion_matrix.ConfusionMatrixDisplay at 0x7fabd9a1a210>"
            ]
          },
          "metadata": {
            "tags": []
          },
          "execution_count": 63
        },
        {
          "output_type": "display_data",
          "data": {
            "image/png": "[encoded data removed]",
            "text/plain": [
              "<Figure size 432x288 with 2 Axes>"
            ]
          },
          "metadata": {
            "tags": [],
            "needs_background": "light"
          }
        }
      ]
    },
    {
      "cell_type": "markdown",
      "metadata": {
        "id": "MztGAVe5O9Us"
      },
      "source": [
        "## Automated Hyperparameter Tuning\n",
        "> Automated Hyperparameter Tuning can be done by using techniques such as\n",
        "- Bayesian Optimization\n",
        "- Gradient Descent\n",
        "- Evolutionary Algorithms\n",
        "\n",
        "> ### Bayesian Optimization\n",
        "Bayesian optimization uses probability to find the minimum of a function. The final aim is to find the input value to a function which gives us the lowest possible output value. It usually performs better than random, grid and manual search providing better performance in the testing phase and reduced optimization time. In `Hyperopt`, `Bayesian Optimization` can be implemented giving 3 three main parameters to the function `fmin`.\n",
        "- `Objective Function` = defines the loss function to minimize.\n",
        "- `Domain Space` = defines the range of input values to test (in Bayesian Optimization this space creates a probability distribution for each of the used Hyperparameters).\n",
        "- `Optimization Algorithm` = defines the search algorithm to use to select the best input values to use in each new iteration."
      ]
    },
    {
      "cell_type": "code",
      "metadata": {
        "id": "MfBDCxbBOzHO"
      },
      "source": [
        "space = {'criterion': hp.choice('criterion', ['entropy', 'gini']),\n",
        "        'max_depth': hp.quniform('max_depth', 10, 1200, 10),\n",
        "        'max_features': hp.choice('max_features', ['auto', 'sqrt','log2', None]),\n",
        "        'min_samples_leaf': hp.uniform('min_samples_leaf', 0, 0.5),\n",
        "        'min_samples_split' : hp.uniform ('min_samples_split', 0, 1),\n",
        "        'n_estimators' : hp.choice('n_estimators', [10, 50, 300, 750, 1200,1300,1500])\n",
        "    }"
      ],
      "execution_count": 67,
      "outputs": []
    },
    {
      "cell_type": "code",
      "metadata": {
        "colab": {
          "base_uri": "https://localhost:8080/"
        },
        "id": "l_rLTJauP-32",
        "outputId": "446018ad-c510-487c-a9eb-3a6c004255a0"
      },
      "source": [
        "space"
      ],
      "execution_count": 68,
      "outputs": [
        {
          "output_type": "execute_result",
          "data": {
            "text/plain": [
              "{'criterion': <hyperopt.pyll.base.Apply at 0x7fabd80aca10>,\n",
              " 'max_depth': <hyperopt.pyll.base.Apply at 0x7fabd8146d90>,\n",
              " 'max_features': <hyperopt.pyll.base.Apply at 0x7fabd9019590>,\n",
              " 'min_samples_leaf': <hyperopt.pyll.base.Apply at 0x7fabd809df10>,\n",
              " 'min_samples_split': <hyperopt.pyll.base.Apply at 0x7fabd80ab4d0>,\n",
              " 'n_estimators': <hyperopt.pyll.base.Apply at 0x7fabd80ab9d0>}"
            ]
          },
          "metadata": {
            "tags": []
          },
          "execution_count": 68
        }
      ]
    },
    {
      "cell_type": "code",
      "metadata": {
        "id": "WOor5etKSZAJ"
      },
      "source": [
        "def objective(space):\n",
        "    model = RandomForestClassifier(criterion=space['criterion'], \n",
        "                                   max_depth=space['max_depth'],\n",
        "                                   max_features = space['max_features'],\n",
        "                                   min_samples_leaf = space['min_samples_leaf'],\n",
        "                                   min_samples_split = space['min_samples_split'],\n",
        "                                   n_estimators = space['n_estimators'])\n",
        "    accuracy = cross_val_score(model, X_train, y_train, cv=5).mean()\n",
        "    return {'loss': -accuracy, 'status': STATUS_OK}"
      ],
      "execution_count": 70,
      "outputs": []
    },
    {
      "cell_type": "code",
      "metadata": {
        "colab": {
          "base_uri": "https://localhost:8080/"
        },
        "id": "X8vI5Qt0Tl7j",
        "outputId": "561bf162-2ff9-4dd5-a0af-5de2fd6d49cf"
      },
      "source": [
        "trials = Trials()\n",
        "best = fmin(fn=objective,\n",
        "            space=space,\n",
        "            algo=tpe.suggest,\n",
        "            max_evals=80,\n",
        "            trials=trials)\n",
        "best"
      ],
      "execution_count": 72,
      "outputs": [
        {
          "output_type": "stream",
          "text": [
            "100%|██████████| 80/80 [06:45<00:00,  5.07s/it, best loss: -0.7752765560442489]\n"
          ],
          "name": "stdout"
        },
        {
          "output_type": "execute_result",
          "data": {
            "text/plain": [
              "{'criterion': 0,\n",
              " 'max_depth': 470.0,\n",
              " 'max_features': 3,\n",
              " 'min_samples_leaf': 0.05735694699107302,\n",
              " 'min_samples_split': 0.04495160574878883,\n",
              " 'n_estimators': 6}"
            ]
          },
          "metadata": {
            "tags": []
          },
          "execution_count": 72
        }
      ]
    },
    {
      "cell_type": "code",
      "metadata": {
        "colab": {
          "base_uri": "https://localhost:8080/"
        },
        "id": "d64NflQYUV87",
        "outputId": "c98e8fd2-9f81-4711-b374-aa0f1ff2023a"
      },
      "source": [
        "crit = {0: 'entropy', 1: 'gini'}\n",
        "feat = {0: 'auto', 1: 'sqrt', 2: 'log2', 3: None}\n",
        "est = {0: 10, 1: 50, 2: 300, 3: 750, 4: 1200,5:1300,6:1500}\n",
        "\n",
        "print(crit[best['criterion']])\n",
        "print(feat[best['max_features']])\n",
        "print(est[best['n_estimators']])"
      ],
      "execution_count": 73,
      "outputs": [
        {
          "output_type": "stream",
          "text": [
            "entropy\n",
            "None\n",
            "1500\n"
          ],
          "name": "stdout"
        }
      ]
    },
    {
      "cell_type": "code",
      "metadata": {
        "colab": {
          "base_uri": "https://localhost:8080/"
        },
        "id": "RjpDpOPbTIGu",
        "outputId": "faccdb57-8dd1-41ec-833f-ec1ff15df9ed"
      },
      "source": [
        "best['min_samples_leaf']"
      ],
      "execution_count": 74,
      "outputs": [
        {
          "output_type": "execute_result",
          "data": {
            "text/plain": [
              "0.05735694699107302"
            ]
          },
          "metadata": {
            "tags": []
          },
          "execution_count": 74
        }
      ]
    },
    {
      "cell_type": "code",
      "metadata": {
        "id": "B7WM-RisXF7m"
      },
      "source": [
        "trainedforest = RandomForestClassifier(criterion = crit[best['criterion']], max_depth = best['max_depth'], \n",
        "                                       max_features = feat[best['max_features']], \n",
        "                                       min_samples_leaf = best['min_samples_leaf'], \n",
        "                                       min_samples_split = best['min_samples_split'], \n",
        "                                       n_estimators = est[best['n_estimators']]).fit(X_train,y_train)\n",
        "pred_forest = trainedforest.predict(X_test)"
      ],
      "execution_count": 75,
      "outputs": []
    },
    {
      "cell_type": "code",
      "metadata": {
        "colab": {
          "base_uri": "https://localhost:8080/"
        },
        "id": "rUfIPFnbXZM_",
        "outputId": "fa124987-84d5-45c0-8956-a992864d1583"
      },
      "source": [
        "confusion_matrix(y_test, pred_forest)"
      ],
      "execution_count": 76,
      "outputs": [
        {
          "output_type": "execute_result",
          "data": {
            "text/plain": [
              "array([[85, 14],\n",
              "       [27, 28]])"
            ]
          },
          "metadata": {
            "tags": []
          },
          "execution_count": 76
        }
      ]
    },
    {
      "cell_type": "code",
      "metadata": {
        "colab": {
          "base_uri": "https://localhost:8080/"
        },
        "id": "8PSlbmyVXgCl",
        "outputId": "51e68744-1063-47dc-f08e-0d294eedcb99"
      },
      "source": [
        "accuracy_score(y_test, pred_forest)"
      ],
      "execution_count": 77,
      "outputs": [
        {
          "output_type": "execute_result",
          "data": {
            "text/plain": [
              "0.7337662337662337"
            ]
          },
          "metadata": {
            "tags": []
          },
          "execution_count": 77
        }
      ]
    },
    {
      "cell_type": "code",
      "metadata": {
        "colab": {
          "base_uri": "https://localhost:8080/"
        },
        "id": "ytqtCDKpXkLW",
        "outputId": "dfcfd5eb-f0f8-4c53-b634-d0cea51ecb50"
      },
      "source": [
        "print(classification_report(y_test, pred_forest))"
      ],
      "execution_count": 78,
      "outputs": [
        {
          "output_type": "stream",
          "text": [
            "              precision    recall  f1-score   support\n",
            "\n",
            "           0       0.76      0.86      0.81        99\n",
            "           1       0.67      0.51      0.58        55\n",
            "\n",
            "    accuracy                           0.73       154\n",
            "   macro avg       0.71      0.68      0.69       154\n",
            "weighted avg       0.73      0.73      0.72       154\n",
            "\n"
          ],
          "name": "stdout"
        }
      ]
    },
    {
      "cell_type": "markdown",
      "metadata": {
        "id": "a1HaGrd9nqdd"
      },
      "source": [
        "## Genetic Algorithms\n",
        "> Genetic Algorithms tries to apply natural selection mechanisms to Machine Learning contexts.\n",
        "\n",
        "> Let's immagine we create a population of N Machine Learning models with some predifined Hyperparameters. We can then calculate the accuracy of each model and decide to keep just half of the models (the ones that performs best). We can now generate some offsprings having similar Hyperparameters to the ones of the best models so that go get again a population of N models. At this point we can again caltulate the accuracy of each model and repeate the cycle for a defined number of generations. In this way, just the best models will survive at the end of the process"
      ]
    },
    {
      "cell_type": "code",
      "metadata": {
        "colab": {
          "base_uri": "https://localhost:8080/"
        },
        "id": "XDuN0cfRXsxR",
        "outputId": "a3336e0a-8706-43e2-a00b-40a380494b92"
      },
      "source": [
        "n_estimators = [int(x) for x in np.linspace(start = 200, stop = 2000, num = 10)]\n",
        "max_features = ['auto', 'sqrt','log2']\n",
        "max_depth = [int(x) for x in np.linspace(10, 1000, 10)]\n",
        "min_samples_split = [2, 5, 10, 14]\n",
        "min_samples_leaf = [1, 2, 4, 6, 8]\n",
        "\n",
        "param = {'n_estimators': n_estimators,\n",
        "               'max_features': max_features,\n",
        "               'max_depth': max_depth,\n",
        "               'min_samples_split': min_samples_split,\n",
        "               'min_samples_leaf': min_samples_leaf,\n",
        "              'criterion':['entropy','gini']}\n",
        "print(param)"
      ],
      "execution_count": 83,
      "outputs": [
        {
          "output_type": "stream",
          "text": [
            "{'n_estimators': [200, 400, 600, 800, 1000, 1200, 1400, 1600, 1800, 2000], 'max_features': ['auto', 'sqrt', 'log2'], 'max_depth': [10, 120, 230, 340, 450, 560, 670, 780, 890, 1000], 'min_samples_split': [2, 5, 10, 14], 'min_samples_leaf': [1, 2, 4, 6, 8], 'criterion': ['entropy', 'gini']}\n"
          ],
          "name": "stdout"
        }
      ]
    },
    {
      "cell_type": "code",
      "metadata": {
        "colab": {
          "base_uri": "https://localhost:8080/",
          "height": 878,
          "referenced_widgets": [
            "edb1ba9f89994c62a495c7597dfbf879",
            "f0b20fa0aed9497f9e4abcae4b2d2ee2",
            "9d21f09fb3754c4597a401e874c6caf7",
            "c246da087f6a4ea3a0fe14312cd551ae",
            "d46ee906fc324d4da32d1cf59e966400",
            "60907798bfd643edb7dda39954029880",
            "a5d8b8a23f754eb5aa063f306e48e7e7",
            "d4193b85a7a44787a6dd197dd3c4316f"
          ]
        },
        "id": "h5z5QYzeuQbZ",
        "outputId": "04c3d204-7e8e-42c4-a5fe-b99b06ca002d"
      },
      "source": [
        "tpot_classifier = TPOTClassifier(generations= 5, population_size= 24, offspring_size= 12,\n",
        "                                 verbosity= 2, early_stop= 12,\n",
        "                                 config_dict={'sklearn.ensemble.RandomForestClassifier': param}, \n",
        "                                 cv = 4, scoring = 'accuracy')\n",
        "tpot_classifier.fit(X_train,y_train)"
      ],
      "execution_count": 84,
      "outputs": [
        {
          "output_type": "display_data",
          "data": {
            "application/vnd.jupyter.widget-view+json": {
              "model_id": "edb1ba9f89994c62a495c7597dfbf879",
              "version_minor": 0,
              "version_major": 2
            },
            "text/plain": [
              "HBox(children=(FloatProgress(value=0.0, description='Optimization Progress', max=84.0, style=ProgressStyle(des…"
            ]
          },
          "metadata": {
            "tags": []
          }
        },
        {
          "output_type": "stream",
          "text": [
            "\r\n",
            "Generation 1 - Current best internal CV score: 0.7785735506323741\n",
            "\n",
            "Generation 2 - Current best internal CV score: 0.7785735506323741\n",
            "\n",
            "Generation 3 - Current best internal CV score: 0.7785735506323741\n",
            "\n",
            "Generation 4 - Current best internal CV score: 0.7801863169510228\n",
            "\n",
            "Generation 5 - Current best internal CV score: 0.7801863169510228\n",
            "\n",
            "Best pipeline: RandomForestClassifier(CombineDFs(input_matrix, input_matrix), criterion=gini, max_depth=890, max_features=sqrt, min_samples_leaf=8, min_samples_split=2, n_estimators=1200)\n"
          ],
          "name": "stdout"
        },
        {
          "output_type": "execute_result",
          "data": {
            "text/plain": [
              "TPOTClassifier(config_dict={'sklearn.ensemble.RandomForestClassifier': {'criterion': ['entropy',\n",
              "                                                                                      'gini'],\n",
              "                                                                        'max_depth': [10,\n",
              "                                                                                      120,\n",
              "                                                                                      230,\n",
              "                                                                                      340,\n",
              "                                                                                      450,\n",
              "                                                                                      560,\n",
              "                                                                                      670,\n",
              "                                                                                      780,\n",
              "                                                                                      890,\n",
              "                                                                                      1000],\n",
              "                                                                        'max_features': ['auto',\n",
              "                                                                                         'sqrt',\n",
              "                                                                                         'log2'],\n",
              "                                                                        'min_samples_leaf': [1,\n",
              "                                                                                             2,\n",
              "                                                                                             4,\n",
              "                                                                                             6,\n",
              "                                                                                             8],\n",
              "                                                                        'min_samples_split': [2,\n",
              "                                                                                              5,\n",
              "                                                                                              10,\n",
              "                                                                                              14],\n",
              "                                                                        'n_estimators': [200,\n",
              "                                                                                         400,\n",
              "                                                                                         600,\n",
              "                                                                                         800,\n",
              "                                                                                         1000,\n",
              "                                                                                         1200,\n",
              "                                                                                         1400,\n",
              "                                                                                         1600,\n",
              "                                                                                         1800,\n",
              "                                                                                         2000]}},\n",
              "               crossover_rate=0.1, cv=4, disable_update_check=False,\n",
              "               early_stop=12, generations=5, log_file=None,\n",
              "               max_eval_time_mins=5, max_time_mins=None, memory=None,\n",
              "               mutation_rate=0.9, n_jobs=1, offspring_size=12,\n",
              "               periodic_checkpoint_folder=None, population_size=24,\n",
              "               random_state=None, scoring='accuracy', subsample=1.0,\n",
              "               template=None, use_dask=False, verbosity=2, warm_start=False)"
            ]
          },
          "metadata": {
            "tags": []
          },
          "execution_count": 84
        }
      ]
    },
    {
      "cell_type": "code",
      "metadata": {
        "colab": {
          "base_uri": "https://localhost:8080/"
        },
        "id": "8SAL3Pfu7gEk",
        "outputId": "e97a0847-e895-498c-e597-9118461ec632"
      },
      "source": [
        "tpot_classifier.score(X_test, y_test)"
      ],
      "execution_count": 85,
      "outputs": [
        {
          "output_type": "execute_result",
          "data": {
            "text/plain": [
              "0.7337662337662337"
            ]
          },
          "metadata": {
            "tags": []
          },
          "execution_count": 85
        }
      ]
    },
    {
      "cell_type": "markdown",
      "metadata": {
        "id": "GbQrb14H7s_R"
      },
      "source": [
        "## Optimize hyperparameters of the  model using Optuna\n",
        "> The hyperparameters of the above algorithm are n_estimators and max_depth for which we can try different values to see if the model accuracy can be improved. The objective function is modified to accept a trial object. This trial has several methods for sampling hyperparameters. We create a study to run the hyperparameter optimization and finally read the best hyperparameters."
      ]
    },
    {
      "cell_type": "code",
      "metadata": {
        "id": "WOBMZVuX8QMJ"
      },
      "source": [
        "def objective(trial):\n",
        "    classifier = trial.suggest_categorical('classifier', ['RandomForest', 'SVC'])\n",
        "    \n",
        "    if classifier == 'RandomForest':\n",
        "        n_estimators = trial.suggest_int('n_estimators', 200, 2000,10)\n",
        "        max_depth = int(trial.suggest_float('max_depth', 10, 100, log=True))\n",
        "\n",
        "        clf = sklearn.ensemble.RandomForestClassifier(\n",
        "            n_estimators=n_estimators, max_depth=max_depth)\n",
        "    else:\n",
        "        c = trial.suggest_float('svc_c', 1e-10, 1e10, log=True)\n",
        "        \n",
        "        clf = sklearn.svm.SVC(C=c, gamma='auto')\n",
        "\n",
        "    return sklearn.model_selection.cross_val_score(\n",
        "        clf,X_train,y_train, n_jobs=-1, cv=3).mean()"
      ],
      "execution_count": 87,
      "outputs": []
    },
    {
      "cell_type": "code",
      "metadata": {
        "colab": {
          "base_uri": "https://localhost:8080/"
        },
        "id": "ThGC3e6j_rsv",
        "outputId": "fe55619a-f4bd-43f6-8345-0ab113d02a61"
      },
      "source": [
        "study = optuna.create_study(direction='maximize')\n",
        "study.optimize(objective, n_trials=100)\n",
        "\n",
        "trial = study.best_trial\n",
        "\n",
        "print('Accuracy: {}'.format(trial.value))\n",
        "print(\"Best hyperparameters: {}\".format(trial.params))"
      ],
      "execution_count": 88,
      "outputs": [
        {
          "output_type": "stream",
          "text": [
            "\u001b[32m[I 2021-03-25 20:10:54,245]\u001b[0m A new study created in memory with name: no-name-c496da7f-1ba4-4554-8df2-8e76942e8e43\u001b[0m\n",
            "\u001b[32m[I 2021-03-25 20:10:56,146]\u001b[0m Trial 0 finished with value: 0.6530926191614858 and parameters: {'classifier': 'SVC', 'svc_c': 115754765.4127412}. Best is trial 0 with value: 0.6530926191614858.\u001b[0m\n",
            "\u001b[32m[I 2021-03-25 20:11:04,578]\u001b[0m Trial 1 finished with value: 0.7639008448908019 and parameters: {'classifier': 'RandomForest', 'n_estimators': 1560, 'max_depth': 13.460718344263816}. Best is trial 1 with value: 0.7639008448908019.\u001b[0m\n",
            "\u001b[32m[I 2021-03-25 20:11:04,633]\u001b[0m Trial 2 finished with value: 0.6530926191614858 and parameters: {'classifier': 'SVC', 'svc_c': 2.1774207136818704e-08}. Best is trial 1 with value: 0.7639008448908019.\u001b[0m\n",
            "\u001b[32m[I 2021-03-25 20:11:04,707]\u001b[0m Trial 3 finished with value: 0.6530926191614858 and parameters: {'classifier': 'SVC', 'svc_c': 37781116.97851339}. Best is trial 1 with value: 0.7639008448908019.\u001b[0m\n",
            "\u001b[32m[I 2021-03-25 20:11:10,072]\u001b[0m Trial 4 finished with value: 0.7655268611509646 and parameters: {'classifier': 'RandomForest', 'n_estimators': 1020, 'max_depth': 40.47207701896902}. Best is trial 4 with value: 0.7655268611509646.\u001b[0m\n",
            "\u001b[32m[I 2021-03-25 20:11:14,484]\u001b[0m Trial 5 finished with value: 0.7622748286306393 and parameters: {'classifier': 'RandomForest', 'n_estimators': 850, 'max_depth': 66.8499293847399}. Best is trial 4 with value: 0.7655268611509646.\u001b[0m\n",
            "\u001b[32m[I 2021-03-25 20:11:23,010]\u001b[0m Trial 6 finished with value: 0.7671608480790691 and parameters: {'classifier': 'RandomForest', 'n_estimators': 1630, 'max_depth': 28.279126501755243}. Best is trial 6 with value: 0.7671608480790691.\u001b[0m\n",
            "\u001b[32m[I 2021-03-25 20:11:23,082]\u001b[0m Trial 7 finished with value: 0.6530926191614858 and parameters: {'classifier': 'SVC', 'svc_c': 157465.93592743098}. Best is trial 6 with value: 0.7671608480790691.\u001b[0m\n",
            "\u001b[32m[I 2021-03-25 20:11:27,308]\u001b[0m Trial 8 finished with value: 0.7622588872947552 and parameters: {'classifier': 'RandomForest', 'n_estimators': 780, 'max_depth': 19.653384479118063}. Best is trial 6 with value: 0.7671608480790691.\u001b[0m\n",
            "\u001b[32m[I 2021-03-25 20:11:36,351]\u001b[0m Trial 9 finished with value: 0.7704049099314524 and parameters: {'classifier': 'RandomForest', 'n_estimators': 1760, 'max_depth': 60.81728930054232}. Best is trial 9 with value: 0.7704049099314524.\u001b[0m\n",
            "\u001b[32m[I 2021-03-25 20:11:37,549]\u001b[0m Trial 10 finished with value: 0.7638928742228598 and parameters: {'classifier': 'RandomForest', 'n_estimators': 230, 'max_depth': 91.55822297262647}. Best is trial 9 with value: 0.7704049099314524.\u001b[0m\n",
            "\u001b[32m[I 2021-03-25 20:11:47,251]\u001b[0m Trial 11 finished with value: 0.7639008448908019 and parameters: {'classifier': 'RandomForest', 'n_estimators': 1910, 'max_depth': 37.8503164572863}. Best is trial 9 with value: 0.7704049099314524.\u001b[0m\n",
            "\u001b[32m[I 2021-03-25 20:11:55,658]\u001b[0m Trial 12 finished with value: 0.7687948350071737 and parameters: {'classifier': 'RandomForest', 'n_estimators': 1680, 'max_depth': 25.539074484437997}. Best is trial 9 with value: 0.7704049099314524.\u001b[0m\n",
            "\u001b[32m[I 2021-03-25 20:12:05,676]\u001b[0m Trial 13 finished with value: 0.7655268611509646 and parameters: {'classifier': 'RandomForest', 'n_estimators': 2000, 'max_depth': 56.423453193652534}. Best is trial 9 with value: 0.7704049099314524.\u001b[0m\n",
            "\u001b[32m[I 2021-03-25 20:12:12,823]\u001b[0m Trial 14 finished with value: 0.7655188904830225 and parameters: {'classifier': 'RandomForest', 'n_estimators': 1460, 'max_depth': 22.328552202308593}. Best is trial 9 with value: 0.7704049099314524.\u001b[0m\n",
            "\u001b[32m[I 2021-03-25 20:12:19,414]\u001b[0m Trial 15 finished with value: 0.772038896859557 and parameters: {'classifier': 'RandomForest', 'n_estimators': 1290, 'max_depth': 99.52290864701898}. Best is trial 15 with value: 0.772038896859557.\u001b[0m\n",
            "\u001b[32m[I 2021-03-25 20:12:26,064]\u001b[0m Trial 16 finished with value: 0.7622668579626972 and parameters: {'classifier': 'RandomForest', 'n_estimators': 1280, 'max_depth': 80.2867796649785}. Best is trial 15 with value: 0.772038896859557.\u001b[0m\n",
            "\u001b[32m[I 2021-03-25 20:12:32,373]\u001b[0m Trial 17 finished with value: 0.7687868643392317 and parameters: {'classifier': 'RandomForest', 'n_estimators': 1230, 'max_depth': 52.847291042522286}. Best is trial 15 with value: 0.772038896859557.\u001b[0m\n",
            "\u001b[32m[I 2021-03-25 20:12:41,880]\u001b[0m Trial 18 finished with value: 0.7622748286306393 and parameters: {'classifier': 'RandomForest', 'n_estimators': 1920, 'max_depth': 93.79786485199243}. Best is trial 15 with value: 0.772038896859557.\u001b[0m\n",
            "\u001b[32m[I 2021-03-25 20:12:45,044]\u001b[0m Trial 19 finished with value: 0.7622748286306393 and parameters: {'classifier': 'RandomForest', 'n_estimators': 650, 'max_depth': 73.2969691141452}. Best is trial 15 with value: 0.772038896859557.\u001b[0m\n",
            "\u001b[32m[I 2021-03-25 20:12:51,659]\u001b[0m Trial 20 finished with value: 0.7622668579626972 and parameters: {'classifier': 'RandomForest', 'n_estimators': 1320, 'max_depth': 47.09438471129948}. Best is trial 15 with value: 0.772038896859557.\u001b[0m\n",
            "\u001b[32m[I 2021-03-25 20:13:00,316]\u001b[0m Trial 21 finished with value: 0.7671608480790691 and parameters: {'classifier': 'RandomForest', 'n_estimators': 1730, 'max_depth': 27.39186610724295}. Best is trial 15 with value: 0.772038896859557.\u001b[0m\n",
            "\u001b[32m[I 2021-03-25 20:13:09,207]\u001b[0m Trial 22 finished with value: 0.7638928742228598 and parameters: {'classifier': 'RandomForest', 'n_estimators': 1740, 'max_depth': 18.88482966606976}. Best is trial 15 with value: 0.772038896859557.\u001b[0m\n",
            "\u001b[32m[I 2021-03-25 20:13:16,488]\u001b[0m Trial 23 finished with value: 0.7655268611509646 and parameters: {'classifier': 'RandomForest', 'n_estimators': 1430, 'max_depth': 15.162668822055604}. Best is trial 15 with value: 0.772038896859557.\u001b[0m\n",
            "\u001b[32m[I 2021-03-25 20:13:25,345]\u001b[0m Trial 24 finished with value: 0.7736728837876615 and parameters: {'classifier': 'RandomForest', 'n_estimators': 1760, 'max_depth': 10.22293214257382}. Best is trial 24 with value: 0.7736728837876615.\u001b[0m\n",
            "\u001b[32m[I 2021-03-25 20:13:34,254]\u001b[0m Trial 25 finished with value: 0.7687868643392317 and parameters: {'classifier': 'RandomForest', 'n_estimators': 1820, 'max_depth': 10.044115933258553}. Best is trial 24 with value: 0.7736728837876615.\u001b[0m\n",
            "\u001b[32m[I 2021-03-25 20:13:39,592]\u001b[0m Trial 26 finished with value: 0.7687948350071737 and parameters: {'classifier': 'RandomForest', 'n_estimators': 1070, 'max_depth': 63.18426449106916}. Best is trial 24 with value: 0.7736728837876615.\u001b[0m\n",
            "\u001b[32m[I 2021-03-25 20:13:39,644]\u001b[0m Trial 27 finished with value: 0.6530926191614858 and parameters: {'classifier': 'SVC', 'svc_c': 1.3404683725627788e-09}. Best is trial 24 with value: 0.7736728837876615.\u001b[0m\n",
            "\u001b[32m[I 2021-03-25 20:13:47,089]\u001b[0m Trial 28 finished with value: 0.7622588872947552 and parameters: {'classifier': 'RandomForest', 'n_estimators': 1510, 'max_depth': 96.6191153327162}. Best is trial 24 with value: 0.7736728837876615.\u001b[0m\n",
            "\u001b[32m[I 2021-03-25 20:13:47,158]\u001b[0m Trial 29 finished with value: 0.6530926191614858 and parameters: {'classifier': 'SVC', 'svc_c': 0.005396017298678698}. Best is trial 24 with value: 0.7736728837876615.\u001b[0m\n",
            "\u001b[32m[I 2021-03-25 20:13:49,050]\u001b[0m Trial 30 finished with value: 0.7704208512673363 and parameters: {'classifier': 'RandomForest', 'n_estimators': 370, 'max_depth': 10.22784631204813}. Best is trial 24 with value: 0.7736728837876615.\u001b[0m\n",
            "\u001b[32m[I 2021-03-25 20:13:50,897]\u001b[0m Trial 31 finished with value: 0.7622748286306393 and parameters: {'classifier': 'RandomForest', 'n_estimators': 360, 'max_depth': 11.08882286009429}. Best is trial 24 with value: 0.7736728837876615.\u001b[0m\n",
            "\u001b[32m[I 2021-03-25 20:13:53,225]\u001b[0m Trial 32 finished with value: 0.7638769328869759 and parameters: {'classifier': 'RandomForest', 'n_estimators': 450, 'max_depth': 12.242037566675599}. Best is trial 24 with value: 0.7736728837876615.\u001b[0m\n",
            "\u001b[32m[I 2021-03-25 20:14:02,980]\u001b[0m Trial 33 finished with value: 0.7638928742228598 and parameters: {'classifier': 'RandomForest', 'n_estimators': 1990, 'max_depth': 15.376149779268346}. Best is trial 24 with value: 0.7736728837876615.\u001b[0m\n",
            "\u001b[32m[I 2021-03-25 20:14:07,742]\u001b[0m Trial 34 finished with value: 0.7655348318189065 and parameters: {'classifier': 'RandomForest', 'n_estimators': 970, 'max_depth': 10.026963204209434}. Best is trial 24 with value: 0.7736728837876615.\u001b[0m\n",
            "\u001b[32m[I 2021-03-25 20:14:13,665]\u001b[0m Trial 35 finished with value: 0.772038896859557 and parameters: {'classifier': 'RandomForest', 'n_estimators': 1190, 'max_depth': 35.09519344627566}. Best is trial 24 with value: 0.7736728837876615.\u001b[0m\n",
            "\u001b[32m[I 2021-03-25 20:14:13,734]\u001b[0m Trial 36 finished with value: 0.6530926191614858 and parameters: {'classifier': 'SVC', 'svc_c': 1.8816989792046444}. Best is trial 24 with value: 0.7736728837876615.\u001b[0m\n",
            "\u001b[32m[I 2021-03-25 20:14:19,900]\u001b[0m Trial 37 finished with value: 0.7687709230033476 and parameters: {'classifier': 'RandomForest', 'n_estimators': 1180, 'max_depth': 14.187842036103161}. Best is trial 24 with value: 0.7736728837876615.\u001b[0m\n",
            "\u001b[32m[I 2021-03-25 20:14:26,534]\u001b[0m Trial 38 finished with value: 0.7671608480790691 and parameters: {'classifier': 'RandomForest', 'n_estimators': 1360, 'max_depth': 34.321178512775965}. Best is trial 24 with value: 0.7736728837876615.\u001b[0m\n",
            "\u001b[32m[I 2021-03-25 20:14:32,240]\u001b[0m Trial 39 finished with value: 0.7671608480790691 and parameters: {'classifier': 'RandomForest', 'n_estimators': 1170, 'max_depth': 17.857029782610322}. Best is trial 24 with value: 0.7736728837876615.\u001b[0m\n",
            "\u001b[32m[I 2021-03-25 20:14:32,294]\u001b[0m Trial 40 finished with value: 0.6530926191614858 and parameters: {'classifier': 'SVC', 'svc_c': 0.0005138037493217895}. Best is trial 24 with value: 0.7736728837876615.\u001b[0m\n",
            "\u001b[32m[I 2021-03-25 20:14:40,040]\u001b[0m Trial 41 finished with value: 0.767144906743185 and parameters: {'classifier': 'RandomForest', 'n_estimators': 1610, 'max_depth': 45.372743204887946}. Best is trial 24 with value: 0.7736728837876615.\u001b[0m\n",
            "\u001b[32m[I 2021-03-25 20:14:44,862]\u001b[0m Trial 42 finished with value: 0.767144906743185 and parameters: {'classifier': 'RandomForest', 'n_estimators': 1000, 'max_depth': 79.58164048246427}. Best is trial 24 with value: 0.7736728837876615.\u001b[0m\n",
            "\u001b[32m[I 2021-03-25 20:14:48,925]\u001b[0m Trial 43 finished with value: 0.7704208512673363 and parameters: {'classifier': 'RandomForest', 'n_estimators': 850, 'max_depth': 30.622373578550043}. Best is trial 24 with value: 0.7736728837876615.\u001b[0m\n",
            "\u001b[32m[I 2021-03-25 20:14:51,814]\u001b[0m Trial 44 finished with value: 0.7687868643392317 and parameters: {'classifier': 'RandomForest', 'n_estimators': 600, 'max_depth': 11.281040784952518}. Best is trial 24 with value: 0.7736728837876615.\u001b[0m\n",
            "\u001b[32m[I 2021-03-25 20:14:56,099]\u001b[0m Trial 45 finished with value: 0.7622668579626972 and parameters: {'classifier': 'RandomForest', 'n_estimators': 900, 'max_depth': 22.70955975411992}. Best is trial 24 with value: 0.7736728837876615.\u001b[0m\n",
            "\u001b[32m[I 2021-03-25 20:14:59,818]\u001b[0m Trial 46 finished with value: 0.7687868643392317 and parameters: {'classifier': 'RandomForest', 'n_estimators': 760, 'max_depth': 12.611763825276787}. Best is trial 24 with value: 0.7736728837876615.\u001b[0m\n",
            "\u001b[32m[I 2021-03-25 20:15:00,943]\u001b[0m Trial 47 finished with value: 0.7704208512673363 and parameters: {'classifier': 'RandomForest', 'n_estimators': 230, 'max_depth': 29.89117709989036}. Best is trial 24 with value: 0.7736728837876615.\u001b[0m\n",
            "\u001b[32m[I 2021-03-25 20:15:01,985]\u001b[0m Trial 48 finished with value: 0.7622588872947552 and parameters: {'classifier': 'RandomForest', 'n_estimators': 210, 'max_depth': 17.067493605367947}. Best is trial 24 with value: 0.7736728837876615.\u001b[0m\n",
            "\u001b[32m[I 2021-03-25 20:15:03,746]\u001b[0m Trial 49 finished with value: 0.7703969392635103 and parameters: {'classifier': 'RandomForest', 'n_estimators': 350, 'max_depth': 38.78189056983117}. Best is trial 24 with value: 0.7736728837876615.\u001b[0m\n",
            "\u001b[32m[I 2021-03-25 20:15:08,983]\u001b[0m Trial 50 finished with value: 0.7671528774111271 and parameters: {'classifier': 'RandomForest', 'n_estimators': 1100, 'max_depth': 31.366703135788303}. Best is trial 24 with value: 0.7736728837876615.\u001b[0m\n",
            "\u001b[32m[I 2021-03-25 20:15:11,411]\u001b[0m Trial 51 finished with value: 0.7639008448908019 and parameters: {'classifier': 'RandomForest', 'n_estimators': 510, 'max_depth': 32.14512585172395}. Best is trial 24 with value: 0.7736728837876615.\u001b[0m\n",
            "\u001b[32m[I 2021-03-25 20:15:12,750]\u001b[0m Trial 52 finished with value: 0.7557627929220468 and parameters: {'classifier': 'RandomForest', 'n_estimators': 270, 'max_depth': 21.314100386683577}. Best is trial 24 with value: 0.7736728837876615.\u001b[0m\n",
            "\u001b[32m[I 2021-03-25 20:15:16,496]\u001b[0m Trial 53 finished with value: 0.7671608480790691 and parameters: {'classifier': 'RandomForest', 'n_estimators': 790, 'max_depth': 25.045728345314412}. Best is trial 24 with value: 0.7736728837876615.\u001b[0m\n",
            "\u001b[32m[I 2021-03-25 20:15:20,939]\u001b[0m Trial 54 finished with value: 0.7638849035549179 and parameters: {'classifier': 'RandomForest', 'n_estimators': 940, 'max_depth': 29.21919739766101}. Best is trial 24 with value: 0.7736728837876615.\u001b[0m\n",
            "\u001b[32m[I 2021-03-25 20:15:22,408]\u001b[0m Trial 55 finished with value: 0.759014825442372 and parameters: {'classifier': 'RandomForest', 'n_estimators': 300, 'max_depth': 42.86097286784025}. Best is trial 24 with value: 0.7736728837876615.\u001b[0m\n",
            "\u001b[32m[I 2021-03-25 20:15:25,597]\u001b[0m Trial 56 finished with value: 0.7606328710345927 and parameters: {'classifier': 'RandomForest', 'n_estimators': 680, 'max_depth': 26.190584734201305}. Best is trial 24 with value: 0.7736728837876615.\u001b[0m\n",
            "\u001b[32m[I 2021-03-25 20:15:32,116]\u001b[0m Trial 57 finished with value: 0.7655428024868485 and parameters: {'classifier': 'RandomForest', 'n_estimators': 1370, 'max_depth': 36.96799621094938}. Best is trial 24 with value: 0.7736728837876615.\u001b[0m\n",
            "\u001b[32m[I 2021-03-25 20:15:34,368]\u001b[0m Trial 58 finished with value: 0.7655109198150805 and parameters: {'classifier': 'RandomForest', 'n_estimators': 470, 'max_depth': 51.083007695496015}. Best is trial 24 with value: 0.7736728837876615.\u001b[0m\n",
            "\u001b[32m[I 2021-03-25 20:15:39,480]\u001b[0m Trial 59 finished with value: 0.7639008448908019 and parameters: {'classifier': 'RandomForest', 'n_estimators': 1090, 'max_depth': 23.289204841405038}. Best is trial 24 with value: 0.7736728837876615.\u001b[0m\n",
            "\u001b[32m[I 2021-03-25 20:15:45,635]\u001b[0m Trial 60 finished with value: 0.7704128805993943 and parameters: {'classifier': 'RandomForest', 'n_estimators': 1290, 'max_depth': 20.108859497262902}. Best is trial 24 with value: 0.7736728837876615.\u001b[0m\n",
            "\u001b[32m[I 2021-03-25 20:15:51,401]\u001b[0m Trial 61 finished with value: 0.7704128805993943 and parameters: {'classifier': 'RandomForest', 'n_estimators': 1230, 'max_depth': 30.33998597121455}. Best is trial 24 with value: 0.7736728837876615.\u001b[0m\n",
            "\u001b[32m[I 2021-03-25 20:15:59,297]\u001b[0m Trial 62 finished with value: 0.7687788936712897 and parameters: {'classifier': 'RandomForest', 'n_estimators': 1560, 'max_depth': 34.966559628885285}. Best is trial 24 with value: 0.7736728837876615.\u001b[0m\n",
            "\u001b[32m[I 2021-03-25 20:16:05,765]\u001b[0m Trial 63 finished with value: 0.7638928742228598 and parameters: {'classifier': 'RandomForest', 'n_estimators': 1270, 'max_depth': 20.62323342432105}. Best is trial 24 with value: 0.7736728837876615.\u001b[0m\n",
            "\u001b[32m[I 2021-03-25 20:16:11,890]\u001b[0m Trial 64 finished with value: 0.767168818747011 and parameters: {'classifier': 'RandomForest', 'n_estimators': 1200, 'max_depth': 32.04650197420891}. Best is trial 24 with value: 0.7736728837876615.\u001b[0m\n",
            "\u001b[32m[I 2021-03-25 20:16:19,010]\u001b[0m Trial 65 finished with value: 0.7589988841064881 and parameters: {'classifier': 'RandomForest', 'n_estimators': 1440, 'max_depth': 29.84316521077539}. Best is trial 24 with value: 0.7736728837876615.\u001b[0m\n",
            "\u001b[32m[I 2021-03-25 20:16:24,748]\u001b[0m Trial 66 finished with value: 0.7573728678463255 and parameters: {'classifier': 'RandomForest', 'n_estimators': 1130, 'max_depth': 26.947529591281913}. Best is trial 24 with value: 0.7736728837876615.\u001b[0m\n",
            "\u001b[32m[I 2021-03-25 20:16:24,823]\u001b[0m Trial 67 finished with value: 0.6530926191614858 and parameters: {'classifier': 'SVC', 'svc_c': 277.2413372791921}. Best is trial 24 with value: 0.7736728837876615.\u001b[0m\n",
            "\u001b[32m[I 2021-03-25 20:16:30,014]\u001b[0m Trial 68 finished with value: 0.7720468675274988 and parameters: {'classifier': 'RandomForest', 'n_estimators': 1050, 'max_depth': 11.012667701253923}. Best is trial 24 with value: 0.7736728837876615.\u001b[0m\n",
            "\u001b[32m[I 2021-03-25 20:16:34,383]\u001b[0m Trial 69 finished with value: 0.7687948350071737 and parameters: {'classifier': 'RandomForest', 'n_estimators': 880, 'max_depth': 10.868728721448269}. Best is trial 24 with value: 0.7736728837876615.\u001b[0m\n",
            "\u001b[32m[I 2021-03-25 20:16:39,322]\u001b[0m Trial 70 finished with value: 0.7703969392635103 and parameters: {'classifier': 'RandomForest', 'n_estimators': 1010, 'max_depth': 10.079319075697885}. Best is trial 24 with value: 0.7736728837876615.\u001b[0m\n",
            "\u001b[32m[I 2021-03-25 20:16:44,726]\u001b[0m Trial 71 finished with value: 0.7704128805993943 and parameters: {'classifier': 'RandomForest', 'n_estimators': 1050, 'max_depth': 12.394348447953902}. Best is trial 24 with value: 0.7736728837876615.\u001b[0m\n",
            "\u001b[32m[I 2021-03-25 20:16:50,829]\u001b[0m Trial 72 finished with value: 0.7655188904830225 and parameters: {'classifier': 'RandomForest', 'n_estimators': 1240, 'max_depth': 13.317707249271967}. Best is trial 24 with value: 0.7736728837876615.\u001b[0m\n",
            "\u001b[32m[I 2021-03-25 20:16:57,322]\u001b[0m Trial 73 finished with value: 0.7671608480790691 and parameters: {'classifier': 'RandomForest', 'n_estimators': 1320, 'max_depth': 15.330777451974733}. Best is trial 24 with value: 0.7736728837876615.\u001b[0m\n",
            "\u001b[32m[I 2021-03-25 20:17:02,538]\u001b[0m Trial 74 finished with value: 0.7687868643392317 and parameters: {'classifier': 'RandomForest', 'n_estimators': 1060, 'max_depth': 10.808266585174328}. Best is trial 24 with value: 0.7736728837876615.\u001b[0m\n",
            "\u001b[32m[I 2021-03-25 20:17:09,106]\u001b[0m Trial 75 finished with value: 0.7687788936712897 and parameters: {'classifier': 'RandomForest', 'n_estimators': 1370, 'max_depth': 11.714263183091202}. Best is trial 24 with value: 0.7736728837876615.\u001b[0m\n",
            "\u001b[32m[I 2021-03-25 20:17:18,011]\u001b[0m Trial 76 finished with value: 0.7638928742228598 and parameters: {'classifier': 'RandomForest', 'n_estimators': 1850, 'max_depth': 10.128296529633468}. Best is trial 24 with value: 0.7736728837876615.\u001b[0m\n",
            "\u001b[32m[I 2021-03-25 20:17:23,726]\u001b[0m Trial 77 finished with value: 0.7655268611509646 and parameters: {'classifier': 'RandomForest', 'n_estimators': 1150, 'max_depth': 67.08880958650799}. Best is trial 24 with value: 0.7736728837876615.\u001b[0m\n",
            "\u001b[32m[I 2021-03-25 20:17:27,853]\u001b[0m Trial 78 finished with value: 0.7606408417025347 and parameters: {'classifier': 'RandomForest', 'n_estimators': 850, 'max_depth': 13.688601135325126}. Best is trial 24 with value: 0.7736728837876615.\u001b[0m\n",
            "\u001b[32m[I 2021-03-25 20:17:27,904]\u001b[0m Trial 79 finished with value: 0.6530926191614858 and parameters: {'classifier': 'SVC', 'svc_c': 1.5387689955853036e-06}. Best is trial 24 with value: 0.7736728837876615.\u001b[0m\n",
            "\u001b[32m[I 2021-03-25 20:17:32,438]\u001b[0m Trial 80 finished with value: 0.7671608480790691 and parameters: {'classifier': 'RandomForest', 'n_estimators': 930, 'max_depth': 12.270013636598328}. Best is trial 24 with value: 0.7736728837876615.\u001b[0m\n",
            "\u001b[32m[I 2021-03-25 20:17:37,358]\u001b[0m Trial 81 finished with value: 0.7655348318189065 and parameters: {'classifier': 'RandomForest', 'n_estimators': 1020, 'max_depth': 24.841688085268768}. Best is trial 24 with value: 0.7736728837876615.\u001b[0m\n",
            "\u001b[32m[I 2021-03-25 20:17:43,199]\u001b[0m Trial 82 finished with value: 0.767168818747011 and parameters: {'classifier': 'RandomForest', 'n_estimators': 1210, 'max_depth': 40.49811129608917}. Best is trial 24 with value: 0.7736728837876615.\u001b[0m\n",
            "\u001b[32m[I 2021-03-25 20:17:51,307]\u001b[0m Trial 83 finished with value: 0.7638769328869759 and parameters: {'classifier': 'RandomForest', 'n_estimators': 1670, 'max_depth': 10.65223174585417}. Best is trial 24 with value: 0.7736728837876615.\u001b[0m\n",
            "\u001b[32m[I 2021-03-25 20:17:58,589]\u001b[0m Trial 84 finished with value: 0.7671608480790691 and parameters: {'classifier': 'RandomForest', 'n_estimators': 1500, 'max_depth': 86.89552534069372}. Best is trial 24 with value: 0.7736728837876615.\u001b[0m\n",
            "\u001b[32m[I 2021-03-25 20:18:05,469]\u001b[0m Trial 85 finished with value: 0.7639088155587439 and parameters: {'classifier': 'RandomForest', 'n_estimators': 1410, 'max_depth': 34.121322438928935}. Best is trial 24 with value: 0.7736728837876615.\u001b[0m\n",
            "\u001b[32m[I 2021-03-25 20:18:11,785]\u001b[0m Trial 86 finished with value: 0.7655188904830225 and parameters: {'classifier': 'RandomForest', 'n_estimators': 1300, 'max_depth': 28.64149154529532}. Best is trial 24 with value: 0.7736728837876615.\u001b[0m\n",
            "\u001b[32m[I 2021-03-25 20:18:17,244]\u001b[0m Trial 87 finished with value: 0.7606408417025347 and parameters: {'classifier': 'RandomForest', 'n_estimators': 1140, 'max_depth': 18.44142062195523}. Best is trial 24 with value: 0.7736728837876615.\u001b[0m\n",
            "\u001b[32m[I 2021-03-25 20:18:18,255]\u001b[0m Trial 88 finished with value: 0.7557548222541048 and parameters: {'classifier': 'RandomForest', 'n_estimators': 200, 'max_depth': 16.478332845741107}. Best is trial 24 with value: 0.7736728837876615.\u001b[0m\n",
            "\u001b[32m[I 2021-03-25 20:18:24,224]\u001b[0m Trial 89 finished with value: 0.7671608480790691 and parameters: {'classifier': 'RandomForest', 'n_estimators': 1230, 'max_depth': 19.930353293386318}. Best is trial 24 with value: 0.7736728837876615.\u001b[0m\n",
            "\u001b[32m[I 2021-03-25 20:18:29,355]\u001b[0m Trial 90 finished with value: 0.767144906743185 and parameters: {'classifier': 'RandomForest', 'n_estimators': 1060, 'max_depth': 11.805582625716715}. Best is trial 24 with value: 0.7736728837876615.\u001b[0m\n",
            "\u001b[32m[I 2021-03-25 20:18:35,623]\u001b[0m Trial 91 finished with value: 0.7687868643392317 and parameters: {'classifier': 'RandomForest', 'n_estimators': 1280, 'max_depth': 12.941623577378436}. Best is trial 24 with value: 0.7736728837876615.\u001b[0m\n",
            "\u001b[32m[I 2021-03-25 20:18:37,616]\u001b[0m Trial 92 finished with value: 0.759014825442372 and parameters: {'classifier': 'RandomForest', 'n_estimators': 410, 'max_depth': 30.911681423705126}. Best is trial 24 with value: 0.7736728837876615.\u001b[0m\n",
            "\u001b[32m[I 2021-03-25 20:18:41,547]\u001b[0m Trial 93 finished with value: 0.7688028056751156 and parameters: {'classifier': 'RandomForest', 'n_estimators': 820, 'max_depth': 24.182879595496583}. Best is trial 24 with value: 0.7736728837876615.\u001b[0m\n",
            "\u001b[32m[I 2021-03-25 20:18:44,564]\u001b[0m Trial 94 finished with value: 0.7622429459588713 and parameters: {'classifier': 'RandomForest', 'n_estimators': 600, 'max_depth': 14.066744582414989}. Best is trial 24 with value: 0.7736728837876615.\u001b[0m\n",
            "\u001b[32m[I 2021-03-25 20:18:48,017]\u001b[0m Trial 95 finished with value: 0.7639008448908019 and parameters: {'classifier': 'RandomForest', 'n_estimators': 720, 'max_depth': 33.685625492185764}. Best is trial 24 with value: 0.7736728837876615.\u001b[0m\n",
            "\u001b[32m[I 2021-03-25 20:18:54,348]\u001b[0m Trial 96 finished with value: 0.7687948350071737 and parameters: {'classifier': 'RandomForest', 'n_estimators': 1330, 'max_depth': 27.1937890917278}. Best is trial 24 with value: 0.7736728837876615.\u001b[0m\n",
            "\u001b[32m[I 2021-03-25 20:18:55,637]\u001b[0m Trial 97 finished with value: 0.7671528774111271 and parameters: {'classifier': 'RandomForest', 'n_estimators': 270, 'max_depth': 57.72365639319264}. Best is trial 24 with value: 0.7736728837876615.\u001b[0m\n",
            "\u001b[32m[I 2021-03-25 20:19:00,246]\u001b[0m Trial 98 finished with value: 0.7687948350071737 and parameters: {'classifier': 'RandomForest', 'n_estimators': 970, 'max_depth': 36.14325943920183}. Best is trial 24 with value: 0.7736728837876615.\u001b[0m\n",
            "\u001b[32m[I 2021-03-25 20:19:05,511]\u001b[0m Trial 99 finished with value: 0.7638928742228598 and parameters: {'classifier': 'RandomForest', 'n_estimators': 1110, 'max_depth': 21.937975454561855}. Best is trial 24 with value: 0.7736728837876615.\u001b[0m\n"
          ],
          "name": "stderr"
        },
        {
          "output_type": "stream",
          "text": [
            "Accuracy: 0.7736728837876615\n",
            "Best hyperparameters: {'classifier': 'RandomForest', 'n_estimators': 1760, 'max_depth': 10.22293214257382}\n"
          ],
          "name": "stdout"
        }
      ]
    },
    {
      "cell_type": "code",
      "metadata": {
        "colab": {
          "base_uri": "https://localhost:8080/"
        },
        "id": "mDCQJU0F_vjG",
        "outputId": "61ec54f5-b078-4788-b8fd-d153607cca75"
      },
      "source": [
        "trial"
      ],
      "execution_count": 90,
      "outputs": [
        {
          "output_type": "execute_result",
          "data": {
            "text/plain": [
              "FrozenTrial(number=24, values=[0.7736728837876615], datetime_start=datetime.datetime(2021, 3, 25, 20, 13, 16, 489995), datetime_complete=datetime.datetime(2021, 3, 25, 20, 13, 25, 344931), params={'classifier': 'RandomForest', 'n_estimators': 1760, 'max_depth': 10.22293214257382}, distributions={'classifier': CategoricalDistribution(choices=('RandomForest', 'SVC')), 'n_estimators': IntUniformDistribution(high=2000, low=200, step=10), 'max_depth': LogUniformDistribution(high=100.0, low=10.0)}, user_attrs={}, system_attrs={}, intermediate_values={}, trial_id=24, state=TrialState.COMPLETE, value=None)"
            ]
          },
          "metadata": {
            "tags": []
          },
          "execution_count": 90
        }
      ]
    },
    {
      "cell_type": "code",
      "metadata": {
        "colab": {
          "base_uri": "https://localhost:8080/"
        },
        "id": "ZwJopBrwCxzq",
        "outputId": "52174540-64b3-4894-f8e3-a3ba4263f954"
      },
      "source": [
        "study.best_params"
      ],
      "execution_count": 91,
      "outputs": [
        {
          "output_type": "execute_result",
          "data": {
            "text/plain": [
              "{'classifier': 'RandomForest',\n",
              " 'max_depth': 10.22293214257382,\n",
              " 'n_estimators': 1760}"
            ]
          },
          "metadata": {
            "tags": []
          },
          "execution_count": 91
        }
      ]
    },
    {
      "cell_type": "code",
      "metadata": {
        "colab": {
          "base_uri": "https://localhost:8080/"
        },
        "id": "VZgoHl_O_zVB",
        "outputId": "ed3a29ac-4fef-42ed-9e8e-e6d0e2e93c59"
      },
      "source": [
        "rf=RandomForestClassifier(n_estimators=330,max_depth=30)\n",
        "rf.fit(X_train,y_train)"
      ],
      "execution_count": 92,
      "outputs": [
        {
          "output_type": "execute_result",
          "data": {
            "text/plain": [
              "RandomForestClassifier(bootstrap=True, ccp_alpha=0.0, class_weight=None,\n",
              "                       criterion='gini', max_depth=30, max_features='auto',\n",
              "                       max_leaf_nodes=None, max_samples=None,\n",
              "                       min_impurity_decrease=0.0, min_impurity_split=None,\n",
              "                       min_samples_leaf=1, min_samples_split=2,\n",
              "                       min_weight_fraction_leaf=0.0, n_estimators=330,\n",
              "                       n_jobs=None, oob_score=False, random_state=None,\n",
              "                       verbose=0, warm_start=False)"
            ]
          },
          "metadata": {
            "tags": []
          },
          "execution_count": 92
        }
      ]
    },
    {
      "cell_type": "code",
      "metadata": {
        "colab": {
          "base_uri": "https://localhost:8080/"
        },
        "id": "NCdVWe04AWm0",
        "outputId": "f6af0de4-d5fd-4c68-a35c-90b844f6e3d9"
      },
      "source": [
        "y_pred=rf.predict(X_test)\n",
        "print(confusion_matrix(y_test,y_pred))\n",
        "print(accuracy_score(y_test,y_pred))\n",
        "print(classification_report(y_test,y_pred))"
      ],
      "execution_count": 93,
      "outputs": [
        {
          "output_type": "stream",
          "text": [
            "[[86 13]\n",
            " [21 34]]\n",
            "0.7792207792207793\n",
            "              precision    recall  f1-score   support\n",
            "\n",
            "           0       0.80      0.87      0.83        99\n",
            "           1       0.72      0.62      0.67        55\n",
            "\n",
            "    accuracy                           0.78       154\n",
            "   macro avg       0.76      0.74      0.75       154\n",
            "weighted avg       0.78      0.78      0.77       154\n",
            "\n"
          ],
          "name": "stdout"
        }
      ]
    },
    {
      "cell_type": "code",
      "metadata": {
        "colab": {
          "base_uri": "https://localhost:8080/",
          "height": 295
        },
        "id": "-X7KrcHVC7a6",
        "outputId": "714b5d70-317f-45df-e3ba-dcce4845a829"
      },
      "source": [
        "plot_confusion_matrix(rf, X_test, y_test, display_labels=['Non Diabetic', 'Diabetic'], values_format='d')"
      ],
      "execution_count": 94,
      "outputs": [
        {
          "output_type": "execute_result",
          "data": {
            "text/plain": [
              "<sklearn.metrics._plot.confusion_matrix.ConfusionMatrixDisplay at 0x7fabd8f6d350>"
            ]
          },
          "metadata": {
            "tags": []
          },
          "execution_count": 94
        },
        {
          "output_type": "display_data",
          "data": {
            "image/png": "[encoded data removed]",
            "text/plain": [
              "<Figure size 432x288 with 2 Axes>"
            ]
          },
          "metadata": {
            "tags": [],
            "needs_background": "light"
          }
        }
      ]
    },
    {
      "cell_type": "code",
      "metadata": {
        "id": "-xFHR7CsDWej"
      },
      "source": [
        ""
      ],
      "execution_count": null,
      "outputs": []
    }
  ]
}